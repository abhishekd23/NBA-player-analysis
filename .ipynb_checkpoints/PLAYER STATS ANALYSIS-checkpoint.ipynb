{
 "cells": [
  {
   "cell_type": "code",
   "execution_count": 1,
   "metadata": {},
   "outputs": [],
   "source": [
    "import pandas as pd\n",
    "import numpy as np\n",
    "from matplotlib import pyplot as plt \n",
    "import math\n",
    "from scipy import stats\n",
    "import seaborn as sns"
   ]
  },
  {
   "cell_type": "code",
   "execution_count": 2,
   "metadata": {},
   "outputs": [],
   "source": [
    "pd.options.mode.chained_assignment = None  # default='warn'\n",
    "\n",
    "# Print the following string in .md syntax\n",
    "def printmd(string):\n",
    "    display(Markdown(string))"
   ]
  },
  {
   "cell_type": "markdown",
   "metadata": {},
   "source": [
    "#DEATILS OF THE DATASET\n",
    " ---------------------------------------\n",
    " \n",
    "   The dataset we've choosen is related to stats of players playing in a various league around the globe every year.\n",
    "   This dataset contains stats of basketball players for over 20 seasons from 1999-2000 to 2019-2020.\n",
    "\n",
    "1. League - Basketball Leagues played around the Globe.\n",
    "\n",
    "2. Season - Year in which the league takes place.\n",
    "\n",
    "3. Stage - Which part of the league we are taking into account.\n",
    "\n",
    "4. Player - The player playing in that particular League.\n",
    "\n",
    "5. Team - The team which the players plays for.\n",
    "\n",
    "6. Birth_Month\n",
    "\n",
    "7. Birth_date\n",
    "\n",
    "8. Height - Height of the player.\n",
    "\n",
    "9. Nationality - The status of belonging to a particular nation.\n",
    "\n",
    "10. High_School - High School team represented by the player.\n",
    "\n",
    "11. Games_played - Number of games played by the player in that season.\n",
    "\n",
    "12. Minutes - Number of minutes played by a player in that season.\n",
    "\n",
    "13. FG_made - (FG)Field Goals, number of shots made by a player.\n",
    "\n",
    "14. FG_attempted - Number of shots attempted by the player.\n",
    "\n",
    "15. 3_Pointer_Made - Number of 3 pointer shots made by a player.\n",
    "\n",
    "16. 3_Pointer_Attempted - Number of 3 pointer shots taken by the player in a season.\n",
    "\n",
    "17. FT_Made - Number of free throws made by a player. (FT - FREE THROW - number of shots given to a player when foul is called \n",
    "    in shooting action) \n",
    "    \n",
    "18. FT_Attempted - Number of free throws attempted by a player.\n",
    "\n",
    "19. Turnovers - Occurs when a team loses possesion of the ball to the opposing team before a player takes shot at their team's \n",
    "    basket.\n",
    "    \n",
    "20. Fouls - Any player whose actions against an opponent cause illegal contact with yet another\t opponent.\n",
    "\n",
    "21. Off_Reb - Number of rebounds taken in offesive end.\n",
    "\n",
    "22. Def_Reb - Number of rebounds taken on defensive end.\n",
    "\n",
    "23. Total_Reb - Off_Reb + Def_Ref.\n",
    "\n",
    "24. Assists - Number of assists recorded by a player.(an assist is attributed to a player who passes the ball to a teammate in \n",
    "    away that leads to a score by field goal).\n",
    "    \n",
    "25. Steals - Number of steals made by a defensive player(a steal occurs when a defensive player\t legally causes a turnover by \n",
    "    his positive, aggressive action(s)).\n",
    "    \n",
    "26. Blocks - Number of rejections made by a defensive player(occurs when a defensive player\t legally deflects a field goal \n",
    "    attempt from an offensive player to prevent a score).\n",
    "    \n",
    "27. Points - Total points scored by a player in that season.\n",
    "\n",
    "28. Height_in_cm - Height of the player in centimetres.\n",
    "\n",
    "29. Weight - weight of the player.\n",
    "\n",
    "30. Weight_in_kg - Weight of the player in Kg."
   ]
  },
  {
   "cell_type": "code",
   "execution_count": 3,
   "metadata": {},
   "outputs": [],
   "source": [
    "nba_data = pd.read_csv('DIRTY_NBAFINAL_DATA.csv')"
   ]
  },
  {
   "cell_type": "code",
   "execution_count": 4,
   "metadata": {},
   "outputs": [
    {
     "data": {
      "text/html": [
       "<div>\n",
       "<style scoped>\n",
       "    .dataframe tbody tr th:only-of-type {\n",
       "        vertical-align: middle;\n",
       "    }\n",
       "\n",
       "    .dataframe tbody tr th {\n",
       "        vertical-align: top;\n",
       "    }\n",
       "\n",
       "    .dataframe thead th {\n",
       "        text-align: right;\n",
       "    }\n",
       "</style>\n",
       "<table border=\"1\" class=\"dataframe\">\n",
       "  <thead>\n",
       "    <tr style=\"text-align: right;\">\n",
       "      <th></th>\n",
       "      <th>Unnamed: 0</th>\n",
       "      <th>Unnamed: 0.1</th>\n",
       "      <th>League</th>\n",
       "      <th>Season</th>\n",
       "      <th>Stage</th>\n",
       "      <th>Player</th>\n",
       "      <th>Team</th>\n",
       "      <th>Birth_Month</th>\n",
       "      <th>Birth_date</th>\n",
       "      <th>Height</th>\n",
       "      <th>...</th>\n",
       "      <th>Off_Reb</th>\n",
       "      <th>Def_Reb</th>\n",
       "      <th>Total_Reb</th>\n",
       "      <th>Assists</th>\n",
       "      <th>Steals</th>\n",
       "      <th>Blocks</th>\n",
       "      <th>Points</th>\n",
       "      <th>Height_in_cm</th>\n",
       "      <th>Weight</th>\n",
       "      <th>Weight_in_Kg</th>\n",
       "    </tr>\n",
       "  </thead>\n",
       "  <tbody>\n",
       "    <tr>\n",
       "      <th>0</th>\n",
       "      <td>0</td>\n",
       "      <td>0</td>\n",
       "      <td>NBA</td>\n",
       "      <td>20 - 2020</td>\n",
       "      <td>Regular_Season</td>\n",
       "      <td>James Harden</td>\n",
       "      <td>HOU</td>\n",
       "      <td>Aug</td>\n",
       "      <td>Aug 26, 89</td>\n",
       "      <td>06-May</td>\n",
       "      <td>...</td>\n",
       "      <td>70.0</td>\n",
       "      <td>376.0</td>\n",
       "      <td>446.0</td>\n",
       "      <td>512.0</td>\n",
       "      <td>125.0</td>\n",
       "      <td>NaN</td>\n",
       "      <td>35.0</td>\n",
       "      <td>6.0</td>\n",
       "      <td>NaN</td>\n",
       "      <td>100.0</td>\n",
       "    </tr>\n",
       "    <tr>\n",
       "      <th>1</th>\n",
       "      <td>1</td>\n",
       "      <td>1</td>\n",
       "      <td>NBA</td>\n",
       "      <td>20 - 2020</td>\n",
       "      <td>Regular_Season</td>\n",
       "      <td>Damian Lillard</td>\n",
       "      <td>POR</td>\n",
       "      <td>Jul</td>\n",
       "      <td>Jul 15, 90</td>\n",
       "      <td>06-Mar</td>\n",
       "      <td>...</td>\n",
       "      <td>33.0</td>\n",
       "      <td>251.0</td>\n",
       "      <td>NaN</td>\n",
       "      <td>530.0</td>\n",
       "      <td>70.0</td>\n",
       "      <td>22.0</td>\n",
       "      <td>78.0</td>\n",
       "      <td>1.0</td>\n",
       "      <td>NaN</td>\n",
       "      <td>88.0</td>\n",
       "    </tr>\n",
       "    <tr>\n",
       "      <th>2</th>\n",
       "      <td>2</td>\n",
       "      <td>2</td>\n",
       "      <td>NBA</td>\n",
       "      <td>20 - 2020</td>\n",
       "      <td>Regular_Season</td>\n",
       "      <td>Devin Booker</td>\n",
       "      <td>PHX</td>\n",
       "      <td>Oct</td>\n",
       "      <td>Oct 30, 96</td>\n",
       "      <td>06-Jun</td>\n",
       "      <td>...</td>\n",
       "      <td>29.0</td>\n",
       "      <td>268.0</td>\n",
       "      <td>NaN</td>\n",
       "      <td>NaN</td>\n",
       "      <td>49.0</td>\n",
       "      <td>18.0</td>\n",
       "      <td>1863.0</td>\n",
       "      <td>8.0</td>\n",
       "      <td>206.0</td>\n",
       "      <td>93.0</td>\n",
       "    </tr>\n",
       "    <tr>\n",
       "      <th>3</th>\n",
       "      <td>3</td>\n",
       "      <td>3</td>\n",
       "      <td>NBA</td>\n",
       "      <td>20 - 2020</td>\n",
       "      <td>Regular_Season</td>\n",
       "      <td>Giannis Antetokounmpo</td>\n",
       "      <td>MIL</td>\n",
       "      <td>Dec</td>\n",
       "      <td>Dec 6, 94</td>\n",
       "      <td>06-Nov</td>\n",
       "      <td>...</td>\n",
       "      <td>1.0</td>\n",
       "      <td>716.0</td>\n",
       "      <td>856.0</td>\n",
       "      <td>354.0</td>\n",
       "      <td>61.0</td>\n",
       "      <td>66.0</td>\n",
       "      <td>1857.0</td>\n",
       "      <td>211.0</td>\n",
       "      <td>242.0</td>\n",
       "      <td>110.0</td>\n",
       "    </tr>\n",
       "    <tr>\n",
       "      <th>4</th>\n",
       "      <td>4</td>\n",
       "      <td>4</td>\n",
       "      <td>NBA</td>\n",
       "      <td>20 - 2020</td>\n",
       "      <td>Regular_Season</td>\n",
       "      <td>Trae Young</td>\n",
       "      <td>ATL</td>\n",
       "      <td>Sep</td>\n",
       "      <td>Sep , 98</td>\n",
       "      <td>06-Feb</td>\n",
       "      <td>...</td>\n",
       "      <td>32.0</td>\n",
       "      <td>2.0</td>\n",
       "      <td>255.0</td>\n",
       "      <td>560.0</td>\n",
       "      <td>65.0</td>\n",
       "      <td>8.0</td>\n",
       "      <td>1778.0</td>\n",
       "      <td>188.0</td>\n",
       "      <td>180.0</td>\n",
       "      <td>82.0</td>\n",
       "    </tr>\n",
       "  </tbody>\n",
       "</table>\n",
       "<p>5 rows × 32 columns</p>\n",
       "</div>"
      ],
      "text/plain": [
       "   Unnamed: 0  Unnamed: 0.1 League     Season           Stage  \\\n",
       "0           0             0    NBA  20 - 2020  Regular_Season   \n",
       "1           1             1    NBA  20 - 2020  Regular_Season   \n",
       "2           2             2    NBA  20 - 2020  Regular_Season   \n",
       "3           3             3    NBA  20 - 2020  Regular_Season   \n",
       "4           4             4    NBA  20 - 2020  Regular_Season   \n",
       "\n",
       "                  Player Team Birth_Month  Birth_date  Height  ... Off_Reb  \\\n",
       "0           James Harden  HOU         Aug  Aug 26, 89  06-May  ...    70.0   \n",
       "1         Damian Lillard  POR         Jul  Jul 15, 90  06-Mar  ...    33.0   \n",
       "2           Devin Booker  PHX         Oct  Oct 30, 96  06-Jun  ...    29.0   \n",
       "3  Giannis Antetokounmpo  MIL         Dec   Dec 6, 94  06-Nov  ...     1.0   \n",
       "4             Trae Young  ATL         Sep    Sep , 98  06-Feb  ...    32.0   \n",
       "\n",
       "  Def_Reb  Total_Reb  Assists  Steals  Blocks  Points  Height_in_cm  Weight  \\\n",
       "0   376.0      446.0    512.0   125.0     NaN    35.0           6.0     NaN   \n",
       "1   251.0        NaN    530.0    70.0    22.0    78.0           1.0     NaN   \n",
       "2   268.0        NaN      NaN    49.0    18.0  1863.0           8.0   206.0   \n",
       "3   716.0      856.0    354.0    61.0    66.0  1857.0         211.0   242.0   \n",
       "4     2.0      255.0    560.0    65.0     8.0  1778.0         188.0   180.0   \n",
       "\n",
       "   Weight_in_Kg  \n",
       "0         100.0  \n",
       "1          88.0  \n",
       "2          93.0  \n",
       "3         110.0  \n",
       "4          82.0  \n",
       "\n",
       "[5 rows x 32 columns]"
      ]
     },
     "execution_count": 4,
     "metadata": {},
     "output_type": "execute_result"
    }
   ],
   "source": [
    "nba_data.head()"
   ]
  },
  {
   "cell_type": "code",
   "execution_count": 5,
   "metadata": {},
   "outputs": [
    {
     "name": "stdout",
     "output_type": "stream",
     "text": [
      "<class 'pandas.core.frame.DataFrame'>\n",
      "RangeIndex: 53798 entries, 0 to 53797\n",
      "Data columns (total 32 columns):\n",
      " #   Column               Non-Null Count  Dtype  \n",
      "---  ------               --------------  -----  \n",
      " 0   Unnamed: 0           53798 non-null  int64  \n",
      " 1   Unnamed: 0.1         53798 non-null  int64  \n",
      " 2   League               53798 non-null  object \n",
      " 3   Season               53798 non-null  object \n",
      " 4   Stage                53798 non-null  object \n",
      " 5   Player               53798 non-null  object \n",
      " 6   Team                 53787 non-null  object \n",
      " 7   Birth_Month          53479 non-null  object \n",
      " 8   Birth_date           53479 non-null  object \n",
      " 9   Height               53724 non-null  object \n",
      " 10  Nationality          53791 non-null  object \n",
      " 11  High_School          23551 non-null  object \n",
      " 12  Games_played         50811 non-null  float64\n",
      " 13  Minutes              53743 non-null  float64\n",
      " 14  FG_made              50077 non-null  float64\n",
      " 15  FG_Attempted         50700 non-null  float64\n",
      " 16  3_Pointer_Made       49131 non-null  float64\n",
      " 17  3_Pointer_Attempted  50075 non-null  float64\n",
      " 18  FT_Made              49137 non-null  float64\n",
      " 19  FT_Attempted         49671 non-null  float64\n",
      " 20  Turnovers            48936 non-null  float64\n",
      " 21  Fouls                49569 non-null  float64\n",
      " 22  Off_Reb              48867 non-null  float64\n",
      " 23  Def_Reb              49769 non-null  float64\n",
      " 24  Total_Reb            50046 non-null  float64\n",
      " 25  Assists              49113 non-null  float64\n",
      " 26  Steals               48446 non-null  float64\n",
      " 27  Blocks               50316 non-null  float64\n",
      " 28  Points               50861 non-null  float64\n",
      " 29  Height_in_cm         51354 non-null  float64\n",
      " 30  Weight               44147 non-null  float64\n",
      " 31  Weight_in_Kg         47017 non-null  float64\n",
      "dtypes: float64(20), int64(2), object(10)\n",
      "memory usage: 13.1+ MB\n"
     ]
    }
   ],
   "source": [
    "nba_data.info()"
   ]
  },
  {
   "cell_type": "code",
   "execution_count": 6,
   "metadata": {},
   "outputs": [
    {
     "data": {
      "text/plain": [
       "Unnamed: 0                 0\n",
       "Unnamed: 0.1               0\n",
       "League                     0\n",
       "Season                     0\n",
       "Stage                      0\n",
       "Player                     0\n",
       "Team                      11\n",
       "Birth_Month              319\n",
       "Birth_date               319\n",
       "Height                    74\n",
       "Nationality                7\n",
       "High_School            30247\n",
       "Games_played            2987\n",
       "Minutes                   55\n",
       "FG_made                 3721\n",
       "FG_Attempted            3098\n",
       "3_Pointer_Made          4667\n",
       "3_Pointer_Attempted     3723\n",
       "FT_Made                 4661\n",
       "FT_Attempted            4127\n",
       "Turnovers               4862\n",
       "Fouls                   4229\n",
       "Off_Reb                 4931\n",
       "Def_Reb                 4029\n",
       "Total_Reb               3752\n",
       "Assists                 4685\n",
       "Steals                  5352\n",
       "Blocks                  3482\n",
       "Points                  2937\n",
       "Height_in_cm            2444\n",
       "Weight                  9651\n",
       "Weight_in_Kg            6781\n",
       "dtype: int64"
      ]
     },
     "execution_count": 6,
     "metadata": {},
     "output_type": "execute_result"
    }
   ],
   "source": [
    "nba_data.isnull().sum()"
   ]
  },
  {
   "cell_type": "code",
   "execution_count": 7,
   "metadata": {},
   "outputs": [
    {
     "data": {
      "text/plain": [
       "<matplotlib.axes._subplots.AxesSubplot at 0x1c4ed53a848>"
      ]
     },
     "execution_count": 7,
     "metadata": {},
     "output_type": "execute_result"
    },
    {
     "data": {
      "image/png": "[encoded data removed]",
      "text/plain": [
       "<Figure size 432x288 with 1 Axes>"
      ]
     },
     "metadata": {
      "needs_background": "light"
     },
     "output_type": "display_data"
    }
   ],
   "source": [
    "sns.heatmap(nba_data.isnull(), cbar=False)"
   ]
  },
  {
   "cell_type": "markdown",
   "metadata": {},
   "source": [
    "# Categorical data\n",
    "\n",
    "High_School -  The missing values in this column clearly indicates that players haven't played for High School teams.\n",
    "                Therefore we replace the NaN values with \"No School\""
   ]
  },
  {
   "cell_type": "code",
   "execution_count": 8,
   "metadata": {},
   "outputs": [],
   "source": [
    "nba_data['High_School'].fillna('No School',inplace=True)"
   ]
  },
  {
   "cell_type": "code",
   "execution_count": null,
   "metadata": {},
   "outputs": [],
   "source": []
  },
  {
   "cell_type": "markdown",
   "metadata": {},
   "source": [
    "# Dropping out the unwanted columns present in the dataset.\n",
    "\n",
    "Unnamed: 0.                                                                                                                \n",
    "Unnamed: 0.1.                                                                                                              \n",
    "Height -contains Date of birth which is irrelevant data.                                                                 \n",
    "Weight - Repetitve data as Weight_in_Kg already exists.  \n",
    "Birth_Month - Repetitive data"
   ]
  },
  {
   "cell_type": "code",
   "execution_count": 9,
   "metadata": {},
   "outputs": [],
   "source": [
    "nba_data = nba_data.drop(columns=['Unnamed: 0','Unnamed: 0.1','Height','Weight','Birth_Month'])"
   ]
  },
  {
   "cell_type": "code",
   "execution_count": 10,
   "metadata": {},
   "outputs": [
    {
     "data": {
      "text/html": [
       "<div>\n",
       "<style scoped>\n",
       "    .dataframe tbody tr th:only-of-type {\n",
       "        vertical-align: middle;\n",
       "    }\n",
       "\n",
       "    .dataframe tbody tr th {\n",
       "        vertical-align: top;\n",
       "    }\n",
       "\n",
       "    .dataframe thead th {\n",
       "        text-align: right;\n",
       "    }\n",
       "</style>\n",
       "<table border=\"1\" class=\"dataframe\">\n",
       "  <thead>\n",
       "    <tr style=\"text-align: right;\">\n",
       "      <th></th>\n",
       "      <th>League</th>\n",
       "      <th>Season</th>\n",
       "      <th>Stage</th>\n",
       "      <th>Player</th>\n",
       "      <th>Team</th>\n",
       "      <th>Birth_date</th>\n",
       "      <th>Nationality</th>\n",
       "      <th>High_School</th>\n",
       "      <th>Games_played</th>\n",
       "      <th>Minutes</th>\n",
       "      <th>...</th>\n",
       "      <th>Fouls</th>\n",
       "      <th>Off_Reb</th>\n",
       "      <th>Def_Reb</th>\n",
       "      <th>Total_Reb</th>\n",
       "      <th>Assists</th>\n",
       "      <th>Steals</th>\n",
       "      <th>Blocks</th>\n",
       "      <th>Points</th>\n",
       "      <th>Height_in_cm</th>\n",
       "      <th>Weight_in_Kg</th>\n",
       "    </tr>\n",
       "  </thead>\n",
       "  <tbody>\n",
       "    <tr>\n",
       "      <th>0</th>\n",
       "      <td>NBA</td>\n",
       "      <td>20 - 2020</td>\n",
       "      <td>Regular_Season</td>\n",
       "      <td>James Harden</td>\n",
       "      <td>HOU</td>\n",
       "      <td>Aug 26, 89</td>\n",
       "      <td>United States</td>\n",
       "      <td>Artesia High School</td>\n",
       "      <td>68.0</td>\n",
       "      <td>2482.6</td>\n",
       "      <td>...</td>\n",
       "      <td>227.0</td>\n",
       "      <td>70.0</td>\n",
       "      <td>376.0</td>\n",
       "      <td>446.0</td>\n",
       "      <td>512.0</td>\n",
       "      <td>125.0</td>\n",
       "      <td>NaN</td>\n",
       "      <td>35.0</td>\n",
       "      <td>6.0</td>\n",
       "      <td>100.0</td>\n",
       "    </tr>\n",
       "    <tr>\n",
       "      <th>1</th>\n",
       "      <td>NBA</td>\n",
       "      <td>20 - 2020</td>\n",
       "      <td>Regular_Season</td>\n",
       "      <td>Damian Lillard</td>\n",
       "      <td>POR</td>\n",
       "      <td>Jul 15, 90</td>\n",
       "      <td>United States</td>\n",
       "      <td>Oakland High School</td>\n",
       "      <td>66.0</td>\n",
       "      <td>2473.7</td>\n",
       "      <td>...</td>\n",
       "      <td>114.0</td>\n",
       "      <td>33.0</td>\n",
       "      <td>251.0</td>\n",
       "      <td>NaN</td>\n",
       "      <td>530.0</td>\n",
       "      <td>70.0</td>\n",
       "      <td>22.0</td>\n",
       "      <td>78.0</td>\n",
       "      <td>1.0</td>\n",
       "      <td>88.0</td>\n",
       "    </tr>\n",
       "    <tr>\n",
       "      <th>2</th>\n",
       "      <td>NBA</td>\n",
       "      <td>20 - 2020</td>\n",
       "      <td>Regular_Season</td>\n",
       "      <td>Devin Booker</td>\n",
       "      <td>PHX</td>\n",
       "      <td>Oct 30, 96</td>\n",
       "      <td>United States</td>\n",
       "      <td>Moss Point High School</td>\n",
       "      <td>70.0</td>\n",
       "      <td>2511.8</td>\n",
       "      <td>...</td>\n",
       "      <td>213.0</td>\n",
       "      <td>29.0</td>\n",
       "      <td>268.0</td>\n",
       "      <td>NaN</td>\n",
       "      <td>NaN</td>\n",
       "      <td>49.0</td>\n",
       "      <td>18.0</td>\n",
       "      <td>1863.0</td>\n",
       "      <td>8.0</td>\n",
       "      <td>93.0</td>\n",
       "    </tr>\n",
       "    <tr>\n",
       "      <th>3</th>\n",
       "      <td>NBA</td>\n",
       "      <td>20 - 2020</td>\n",
       "      <td>Regular_Season</td>\n",
       "      <td>Giannis Antetokounmpo</td>\n",
       "      <td>MIL</td>\n",
       "      <td>Dec 6, 94</td>\n",
       "      <td>Greece / Nigeria</td>\n",
       "      <td>No School</td>\n",
       "      <td>63.0</td>\n",
       "      <td>16.9</td>\n",
       "      <td>...</td>\n",
       "      <td>5.0</td>\n",
       "      <td>1.0</td>\n",
       "      <td>716.0</td>\n",
       "      <td>856.0</td>\n",
       "      <td>354.0</td>\n",
       "      <td>61.0</td>\n",
       "      <td>66.0</td>\n",
       "      <td>1857.0</td>\n",
       "      <td>211.0</td>\n",
       "      <td>110.0</td>\n",
       "    </tr>\n",
       "    <tr>\n",
       "      <th>4</th>\n",
       "      <td>NBA</td>\n",
       "      <td>20 - 2020</td>\n",
       "      <td>Regular_Season</td>\n",
       "      <td>Trae Young</td>\n",
       "      <td>ATL</td>\n",
       "      <td>Sep , 98</td>\n",
       "      <td>United States</td>\n",
       "      <td>Norman High School</td>\n",
       "      <td>60.0</td>\n",
       "      <td>2120.1</td>\n",
       "      <td>...</td>\n",
       "      <td>104.0</td>\n",
       "      <td>32.0</td>\n",
       "      <td>2.0</td>\n",
       "      <td>255.0</td>\n",
       "      <td>560.0</td>\n",
       "      <td>65.0</td>\n",
       "      <td>8.0</td>\n",
       "      <td>1778.0</td>\n",
       "      <td>188.0</td>\n",
       "      <td>82.0</td>\n",
       "    </tr>\n",
       "  </tbody>\n",
       "</table>\n",
       "<p>5 rows × 27 columns</p>\n",
       "</div>"
      ],
      "text/plain": [
       "  League     Season           Stage                 Player Team  Birth_date  \\\n",
       "0    NBA  20 - 2020  Regular_Season           James Harden  HOU  Aug 26, 89   \n",
       "1    NBA  20 - 2020  Regular_Season         Damian Lillard  POR  Jul 15, 90   \n",
       "2    NBA  20 - 2020  Regular_Season           Devin Booker  PHX  Oct 30, 96   \n",
       "3    NBA  20 - 2020  Regular_Season  Giannis Antetokounmpo  MIL   Dec 6, 94   \n",
       "4    NBA  20 - 2020  Regular_Season             Trae Young  ATL    Sep , 98   \n",
       "\n",
       "        Nationality             High_School  Games_played  Minutes  ...  \\\n",
       "0     United States     Artesia High School          68.0   2482.6  ...   \n",
       "1     United States     Oakland High School          66.0   2473.7  ...   \n",
       "2     United States  Moss Point High School          70.0   2511.8  ...   \n",
       "3  Greece / Nigeria               No School          63.0     16.9  ...   \n",
       "4     United States      Norman High School          60.0   2120.1  ...   \n",
       "\n",
       "   Fouls  Off_Reb  Def_Reb  Total_Reb  Assists  Steals  Blocks  Points  \\\n",
       "0  227.0     70.0    376.0      446.0    512.0   125.0     NaN    35.0   \n",
       "1  114.0     33.0    251.0        NaN    530.0    70.0    22.0    78.0   \n",
       "2  213.0     29.0    268.0        NaN      NaN    49.0    18.0  1863.0   \n",
       "3    5.0      1.0    716.0      856.0    354.0    61.0    66.0  1857.0   \n",
       "4  104.0     32.0      2.0      255.0    560.0    65.0     8.0  1778.0   \n",
       "\n",
       "   Height_in_cm  Weight_in_Kg  \n",
       "0           6.0         100.0  \n",
       "1           1.0          88.0  \n",
       "2           8.0          93.0  \n",
       "3         211.0         110.0  \n",
       "4         188.0          82.0  \n",
       "\n",
       "[5 rows x 27 columns]"
      ]
     },
     "execution_count": 10,
     "metadata": {},
     "output_type": "execute_result"
    }
   ],
   "source": [
    "nba_data.head()"
   ]
  },
  {
   "cell_type": "code",
   "execution_count": null,
   "metadata": {},
   "outputs": [],
   "source": []
  },
  {
   "cell_type": "markdown",
   "metadata": {},
   "source": [
    "# Irrelevant Data\n",
    "\n",
    "Column Height -  As you see height of 19746 observations(players) is less than 100.0 cm . Therefore we replace these values with \n",
    "                the median of the heights."
   ]
  },
  {
   "cell_type": "code",
   "execution_count": 11,
   "metadata": {},
   "outputs": [
    {
     "name": "stdout",
     "output_type": "stream",
     "text": [
      "19023\n"
     ]
    }
   ],
   "source": [
    "count = 0\n",
    "for i in range(53797):\n",
    "    if(nba_data['Height_in_cm'][i]<100.0):\n",
    "        count = count+1\n",
    "print(count)"
   ]
  },
  {
   "cell_type": "code",
   "execution_count": 12,
   "metadata": {},
   "outputs": [],
   "source": [
    "median_height = nba_data['Height_in_cm'].median()\n",
    "for i in range(53797):\n",
    "    if(nba_data['Height_in_cm'][i]<100.0):\n",
    "        nba_data['Height_in_cm'][i] = median_height"
   ]
  },
  {
   "cell_type": "code",
   "execution_count": null,
   "metadata": {},
   "outputs": [],
   "source": []
  },
  {
   "cell_type": "markdown",
   "metadata": {},
   "source": [
    "#Missing values  -- NUMERICAL DATA\n",
    " --------------"
   ]
  },
  {
   "cell_type": "code",
   "execution_count": 13,
   "metadata": {},
   "outputs": [],
   "source": [
    "missing_values = ['FG_made','3_Pointer_Made','FT_Made','FG_Attempted','3_Pointer_Attempted','FT_Attempted','Points','Height_in_cm','Weight_in_Kg']\n",
    "for i in missing_values:\n",
    "    nba_data[i].fillna(nba_data[i].mean(), inplace=True)\n"
   ]
  },
  {
   "cell_type": "code",
   "execution_count": 14,
   "metadata": {},
   "outputs": [],
   "source": [
    "missing_values = ['Games_played','Minutes','Turnovers','Fouls','Assists','Steals','Blocks']\n",
    "for i in missing_values:\n",
    "    nba_data[i].fillna(nba_data[i].median(), inplace=True)"
   ]
  },
  {
   "cell_type": "code",
   "execution_count": 15,
   "metadata": {},
   "outputs": [
    {
     "data": {
      "text/plain": [
       "League                    0\n",
       "Season                    0\n",
       "Stage                     0\n",
       "Player                    0\n",
       "Team                     11\n",
       "Birth_date              319\n",
       "Nationality               7\n",
       "High_School               0\n",
       "Games_played              0\n",
       "Minutes                   0\n",
       "FG_made                   0\n",
       "FG_Attempted              0\n",
       "3_Pointer_Made            0\n",
       "3_Pointer_Attempted       0\n",
       "FT_Made                   0\n",
       "FT_Attempted              0\n",
       "Turnovers                 0\n",
       "Fouls                     0\n",
       "Off_Reb                4931\n",
       "Def_Reb                4029\n",
       "Total_Reb              3752\n",
       "Assists                   0\n",
       "Steals                    0\n",
       "Blocks                    0\n",
       "Points                    0\n",
       "Height_in_cm              0\n",
       "Weight_in_Kg              0\n",
       "dtype: int64"
      ]
     },
     "execution_count": 15,
     "metadata": {},
     "output_type": "execute_result"
    }
   ],
   "source": [
    "nba_data.isnull().sum()"
   ]
  },
  {
   "cell_type": "code",
   "execution_count": 16,
   "metadata": {},
   "outputs": [],
   "source": [
    "off_mode = nba_data['Off_Reb'].mode().iloc[0]\n",
    "nba_data['Off_Reb'].fillna(off_mode,inplace=True)\n",
    "def_mode = nba_data['Def_Reb'].mode().iloc[0]\n",
    "nba_data['Def_Reb'].fillna(def_mode,inplace=True)"
   ]
  },
  {
   "cell_type": "markdown",
   "metadata": {},
   "source": [
    "# For Total_Reb the missing values is equal to Def_Reb + Off_Reb"
   ]
  },
  {
   "cell_type": "code",
   "execution_count": 17,
   "metadata": {},
   "outputs": [],
   "source": [
    "for i in range(0,53798):\n",
    "    nba_data['Total_Reb'][i] = nba_data['Def_Reb'][i]+ nba_data['Off_Reb'][i]"
   ]
  },
  {
   "cell_type": "code",
   "execution_count": 18,
   "metadata": {},
   "outputs": [
    {
     "data": {
      "text/plain": [
       "League                   0\n",
       "Season                   0\n",
       "Stage                    0\n",
       "Player                   0\n",
       "Team                    11\n",
       "Birth_date             319\n",
       "Nationality              7\n",
       "High_School              0\n",
       "Games_played             0\n",
       "Minutes                  0\n",
       "FG_made                  0\n",
       "FG_Attempted             0\n",
       "3_Pointer_Made           0\n",
       "3_Pointer_Attempted      0\n",
       "FT_Made                  0\n",
       "FT_Attempted             0\n",
       "Turnovers                0\n",
       "Fouls                    0\n",
       "Off_Reb                  0\n",
       "Def_Reb                  0\n",
       "Total_Reb                0\n",
       "Assists                  0\n",
       "Steals                   0\n",
       "Blocks                   0\n",
       "Points                   0\n",
       "Height_in_cm             0\n",
       "Weight_in_Kg             0\n",
       "dtype: int64"
      ]
     },
     "execution_count": 18,
     "metadata": {},
     "output_type": "execute_result"
    }
   ],
   "source": [
    "nba_data.isnull().sum()"
   ]
  },
  {
   "cell_type": "code",
   "execution_count": null,
   "metadata": {},
   "outputs": [],
   "source": []
  },
  {
   "cell_type": "code",
   "execution_count": 19,
   "metadata": {},
   "outputs": [
    {
     "name": "stdout",
     "output_type": "stream",
     "text": [
      "298\n"
     ]
    }
   ],
   "source": [
    "count = 0\n",
    "for i in range(1,53798):\n",
    "    if(nba_data['Nationality'][i] == \"us\"):\n",
    "        count = count+1\n",
    "        \n",
    "print(count)"
   ]
  },
  {
   "cell_type": "markdown",
   "metadata": {},
   "source": [
    "# To fix typos - United States - \"us\""
   ]
  },
  {
   "cell_type": "code",
   "execution_count": 20,
   "metadata": {},
   "outputs": [],
   "source": [
    "for i in range(1,53798):\n",
    "    if(nba_data['Nationality'][i] == \"us\"):\n",
    "        nba_data['Nationality'][i] = \"United States\""
   ]
  },
  {
   "cell_type": "code",
   "execution_count": null,
   "metadata": {},
   "outputs": [],
   "source": []
  },
  {
   "cell_type": "markdown",
   "metadata": {},
   "source": [
    "# Missing teams in column Team is filled with forward fill method."
   ]
  },
  {
   "cell_type": "code",
   "execution_count": 21,
   "metadata": {},
   "outputs": [],
   "source": [
    "nba_data[\"Team\"].fillna( method ='ffill', inplace = True)"
   ]
  },
  {
   "cell_type": "code",
   "execution_count": null,
   "metadata": {},
   "outputs": [],
   "source": []
  },
  {
   "cell_type": "markdown",
   "metadata": {},
   "source": [
    "# Missing values in Nationality and Birth_Date can be taken as player with no identity. Therefore we delete all the rows with such missing values."
   ]
  },
  {
   "cell_type": "code",
   "execution_count": 22,
   "metadata": {},
   "outputs": [],
   "source": [
    "nba_data = nba_data.dropna(axis=0)"
   ]
  },
  {
   "cell_type": "code",
   "execution_count": 23,
   "metadata": {},
   "outputs": [
    {
     "data": {
      "text/plain": [
       "League                 0\n",
       "Season                 0\n",
       "Stage                  0\n",
       "Player                 0\n",
       "Team                   0\n",
       "Birth_date             0\n",
       "Nationality            0\n",
       "High_School            0\n",
       "Games_played           0\n",
       "Minutes                0\n",
       "FG_made                0\n",
       "FG_Attempted           0\n",
       "3_Pointer_Made         0\n",
       "3_Pointer_Attempted    0\n",
       "FT_Made                0\n",
       "FT_Attempted           0\n",
       "Turnovers              0\n",
       "Fouls                  0\n",
       "Off_Reb                0\n",
       "Def_Reb                0\n",
       "Total_Reb              0\n",
       "Assists                0\n",
       "Steals                 0\n",
       "Blocks                 0\n",
       "Points                 0\n",
       "Height_in_cm           0\n",
       "Weight_in_Kg           0\n",
       "dtype: int64"
      ]
     },
     "execution_count": 23,
     "metadata": {},
     "output_type": "execute_result"
    }
   ],
   "source": [
    "nba_data.isnull().sum()"
   ]
  },
  {
   "cell_type": "code",
   "execution_count": 24,
   "metadata": {},
   "outputs": [
    {
     "data": {
      "text/plain": [
       "(53473, 27)"
      ]
     },
     "execution_count": 24,
     "metadata": {},
     "output_type": "execute_result"
    }
   ],
   "source": [
    "nba_data.shape"
   ]
  },
  {
   "cell_type": "code",
   "execution_count": 25,
   "metadata": {},
   "outputs": [
    {
     "data": {
      "text/plain": [
       "<matplotlib.axes._subplots.AxesSubplot at 0x1c4ece29c48>"
      ]
     },
     "execution_count": 25,
     "metadata": {},
     "output_type": "execute_result"
    },
    {
     "data": {
      "image/png": "[encoded data removed]",
      "text/plain": [
       "<Figure size 432x288 with 1 Axes>"
      ]
     },
     "metadata": {
      "needs_background": "light"
     },
     "output_type": "display_data"
    }
   ],
   "source": [
    "sns.heatmap(nba_data.isnull(), cbar=False)"
   ]
  },
  {
   "cell_type": "code",
   "execution_count": 26,
   "metadata": {},
   "outputs": [],
   "source": [
    "nba_data.to_csv(\"cleaned_nba_data.csv\")"
   ]
  },
  {
   "cell_type": "code",
   "execution_count": null,
   "metadata": {},
   "outputs": [],
   "source": []
  },
  {
   "cell_type": "code",
   "execution_count": null,
   "metadata": {},
   "outputs": [],
   "source": []
  },
  {
   "cell_type": "markdown",
   "metadata": {},
   "source": [
    "# DATA VISUALISATION"
   ]
  },
  {
   "cell_type": "code",
   "execution_count": 27,
   "metadata": {},
   "outputs": [
    {
     "name": "stdout",
     "output_type": "stream",
     "text": [
      "                League       Season          Stage            Player Team  \\\n",
      "0              Eurocup  2016 - 2017  International     Petar Popovic  BUD   \n",
      "1          Chinese-CBA    2018 - 20  International      Brandon Bass  LIA   \n",
      "2              Eurocup  2015 - 2016  International      Yogev Ohayon  MAC   \n",
      "3          Chinese-CBA    2018 - 20  International  Shabazz Muhammad  SZD   \n",
      "4  Swedish-Basketligan  2013 - 2014  International  Mantas Griskenas  SOD   \n",
      "\n",
      "   Birth_date    Nationality                High_School  Games_played  \\\n",
      "0  Sep 13, 96     Montenegro                  No School           8.0   \n",
      "1  Apr 30, 85  United States        Capitol High School          53.0   \n",
      "2  Apr 24, 87         Israel                  No School           2.0   \n",
      "3  Nov 13, 92  United States  Bishop Gorman High School          41.0   \n",
      "4   May 4, 85      Lithuania                  No School          52.0   \n",
      "\n",
      "   Minutes  ...  Fouls  Off_Reb  Def_Reb  Total_Reb  Assists  Steals  Blocks  \\\n",
      "0    157.9  ...   15.0      3.0      5.0        8.0      6.0     8.0     1.0   \n",
      "1   1748.9  ...   84.0    148.0      3.0      151.0    113.0    59.0    49.0   \n",
      "2     33.6  ...    6.0      1.0      1.0        2.0      7.0     3.0     0.0   \n",
      "3   1309.8  ...   67.0    125.0    335.0      460.0    116.0    25.0    32.0   \n",
      "4   1278.4  ...  143.0     98.0    183.0      281.0     42.0    30.0    20.0   \n",
      "\n",
      "   Points  Height_in_cm  Weight_in_Kg  \n",
      "0    56.0         188.0          79.0  \n",
      "1  1210.0         203.0         113.0  \n",
      "2     5.0         188.0          86.0  \n",
      "3  1221.0         188.0         102.0  \n",
      "4   466.0         201.0         100.0  \n",
      "\n",
      "[5 rows x 27 columns]\n"
     ]
    },
    {
     "data": {
      "text/plain": [
       "(5347, 27)"
      ]
     },
     "execution_count": 27,
     "metadata": {},
     "output_type": "execute_result"
    }
   ],
   "source": [
    "#loading the dataset\n",
    "df = pd.read_csv(\"new.csv\")\n",
    "print(df.head())\n",
    "df.shape\n"
   ]
  },
  {
   "cell_type": "code",
   "execution_count": null,
   "metadata": {},
   "outputs": [],
   "source": []
  },
  {
   "cell_type": "markdown",
   "metadata": {},
   "source": [
    "# Removing Outliers"
   ]
  },
  {
   "cell_type": "markdown",
   "metadata": {},
   "source": [
    "1. Numeric (using box plot)"
   ]
  },
  {
   "cell_type": "code",
   "execution_count": 28,
   "metadata": {},
   "outputs": [
    {
     "data": {
      "image/png": "[encoded data removed]",
      "text/plain": [
       "<Figure size 432x288 with 1 Axes>"
      ]
     },
     "metadata": {
      "needs_background": "light"
     },
     "output_type": "display_data"
    },
    {
     "data": {
      "image/png": "[encoded data removed]",
      "text/plain": [
       "<Figure size 432x288 with 1 Axes>"
      ]
     },
     "metadata": {
      "needs_background": "light"
     },
     "output_type": "display_data"
    }
   ],
   "source": [
    "#Representation of the graph before removing outliers\n",
    "sns.boxplot(df['Weight_in_Kg'],palette='GnBu_r')\n",
    "plt.show()\n",
    "\n",
    "sns.boxplot(df['Points'],palette='GnBu_r')\n",
    "plt.show()\n"
   ]
  },
  {
   "cell_type": "code",
   "execution_count": 29,
   "metadata": {},
   "outputs": [
    {
     "name": "stdout",
     "output_type": "stream",
     "text": [
      "Games_played            19.00\n",
      "Minutes                628.25\n",
      "FG_made                 90.00\n",
      "FG_Attempted           217.00\n",
      "3_Pointer_Made          36.00\n",
      "3_Pointer_Attempted     94.00\n",
      "FT_Made                 51.00\n",
      "FT_Attempted            65.00\n",
      "Turnovers               37.00\n",
      "Fouls                   53.00\n",
      "Off_Reb                 34.00\n",
      "Def_Reb                 76.00\n",
      "Total_Reb              100.00\n",
      "Assists                 55.00\n",
      "Steals                  23.00\n",
      "Blocks                  10.00\n",
      "Points                 283.00\n",
      "Height_in_cm            15.00\n",
      "Weight_in_Kg            16.00\n",
      "dtype: float64\n"
     ]
    }
   ],
   "source": [
    "#Calculating the quartiles\n",
    "Q1 = df.quantile(0.25)\n",
    "Q3 = df.quantile(0.75)\n",
    "IQR = Q3 - Q1\n",
    "print(IQR)\n"
   ]
  },
  {
   "cell_type": "code",
   "execution_count": 30,
   "metadata": {},
   "outputs": [
    {
     "name": "stdout",
     "output_type": "stream",
     "text": [
      "No. of observations before eliminating the outliers: 5347\n",
      "No. of observations after eliminating the outliers: 4178\n",
      "Therefore we have found  1169  outliers\n"
     ]
    }
   ],
   "source": [
    "print('No. of observations before eliminating the outliers:',len(df))\n",
    "init_dfa_len=len(df)\n",
    "\n",
    "# Removal of outliers\n",
    "df = df[~((df < (Q1 - 1.5 * IQR)) |(df > (Q3 + 1.5 * IQR))).any(axis=1)]\n",
    "\n",
    "print('No. of observations after eliminating the outliers:',len(df))\n",
    "final_dfa_len=len(df)\n",
    "\n",
    "print('Therefore we have found ', init_dfa_len-final_dfa_len ,' outliers')\n",
    "\n"
   ]
  },
  {
   "cell_type": "code",
   "execution_count": 31,
   "metadata": {},
   "outputs": [
    {
     "data": {
      "image/png": "[encoded data removed]",
      "text/plain": [
       "<Figure size 432x288 with 1 Axes>"
      ]
     },
     "metadata": {
      "needs_background": "light"
     },
     "output_type": "display_data"
    },
    {
     "data": {
      "image/png": "[encoded data removed]",
      "text/plain": [
       "<Figure size 432x288 with 1 Axes>"
      ]
     },
     "metadata": {
      "needs_background": "light"
     },
     "output_type": "display_data"
    }
   ],
   "source": [
    "#Representation of the graph after removing outliers\n",
    "sns.boxplot(df['Weight_in_Kg'],palette='GnBu_r')\n",
    "plt.show()\n",
    "\n",
    "sns.boxplot(df['Points'],palette='GnBu_r')\n",
    "plt.show()"
   ]
  },
  {
   "cell_type": "code",
   "execution_count": 32,
   "metadata": {},
   "outputs": [
    {
     "data": {
      "image/png": "[encoded data removed]",
      "text/plain": [
       "<Figure size 1440x720 with 1 Axes>"
      ]
     },
     "metadata": {
      "needs_background": "light"
     },
     "output_type": "display_data"
    }
   ],
   "source": [
    "#Graph of Country of Origin before removing outliers\n",
    "plt.figure(figsize=(20,10))\n",
    "ax = sns.countplot(x=\"Nationality\", data=df,palette='BrBG')\n",
    "ax.set_xticklabels(ax.get_xticklabels(), rotation=90, ha=\"right\")\n",
    "plt.tight_layout()\n",
    "plt.show()\n"
   ]
  },
  {
   "cell_type": "code",
   "execution_count": 33,
   "metadata": {},
   "outputs": [
    {
     "name": "stdout",
     "output_type": "stream",
     "text": [
      "No. of observations before eliminating the outliers: 4178\n",
      "No. of observations after eliminating the outliers: 1424\n",
      "Therefore we have found  2754  outliers\n"
     ]
    }
   ],
   "source": [
    "#Removing categorical outliers\n",
    "print('No. of observations before eliminating the outliers:',len(df))\n",
    "init_len=len(df)\n",
    "\n",
    "counts = df['Team'].value_counts()\n",
    "df = df.loc[df['Team'].isin(counts.index[counts > 10])]\n",
    "count = df['Nationality'].value_counts()\n",
    "df = df.loc[df['Nationality'].isin(count.index[count > 20])]\n",
    "\n",
    "print('No. of observations after eliminating the outliers:',len(df))\n",
    "final_len=len(df)\n",
    "\n",
    "print('Therefore we have found ', init_len-final_len ,' outliers')\n",
    "\n"
   ]
  },
  {
   "cell_type": "code",
   "execution_count": 34,
   "metadata": {},
   "outputs": [
    {
     "data": {
      "image/png": "[encoded data removed]",
      "text/plain": [
       "<Figure size 1440x720 with 1 Axes>"
      ]
     },
     "metadata": {
      "needs_background": "light"
     },
     "output_type": "display_data"
    }
   ],
   "source": [
    "#Graph of Country of Origin after removing outliers\n",
    "plt.figure(figsize=(20,10))\n",
    "ax = sns.countplot(x=\"Nationality\", data=df,palette='BrBG')\n",
    "ax.set_xticklabels(ax.get_xticklabels(), rotation=90, ha=\"right\")\n",
    "plt.tight_layout()\n",
    "plt.show()\n"
   ]
  },
  {
   "cell_type": "markdown",
   "metadata": {},
   "source": [
    "# Graphical VIsualisation"
   ]
  },
  {
   "cell_type": "markdown",
   "metadata": {},
   "source": [
    "1. Bar chart"
   ]
  },
  {
   "cell_type": "code",
   "execution_count": 35,
   "metadata": {},
   "outputs": [
    {
     "data": {
      "image/png": "[encoded data removed]",
      "text/plain": [
       "<Figure size 1440x720 with 1 Axes>"
      ]
     },
     "metadata": {
      "needs_background": "light"
     },
     "output_type": "display_data"
    }
   ],
   "source": [
    "#Bar chart of the number of players participating in a particular league\n",
    "plt.figure(figsize=(20,10))\n",
    "#x.set(ylim=(10, 60))\n",
    "ax = sns.countplot(x=\"League\",data=df,palette='GnBu_r')\n",
    "ax.set_xticklabels(ax.get_xticklabels(), rotation=90, ha=\"right\")\n",
    "plt.tight_layout()\n",
    "plt.show()"
   ]
  },
  {
   "cell_type": "code",
   "execution_count": 36,
   "metadata": {},
   "outputs": [
    {
     "data": {
      "image/png": "[encoded data removed]",
      "text/plain": [
       "<Figure size 1440x720 with 1 Axes>"
      ]
     },
     "metadata": {
      "needs_background": "light"
     },
     "output_type": "display_data"
    }
   ],
   "source": [
    "#Bar chart of Country of Origin of the players\n",
    "plt.figure(figsize=(20,10))\n",
    "ax = sns.countplot(x=\"Nationality\", data=df,palette='BrBG')\n",
    "ax.set_xticklabels(ax.get_xticklabels(), rotation=90, ha=\"right\")\n",
    "plt.tight_layout()\n",
    "plt.show()\n"
   ]
  },
  {
   "cell_type": "markdown",
   "metadata": {},
   "source": [
    "2. Histogram"
   ]
  },
  {
   "cell_type": "code",
   "execution_count": 37,
   "metadata": {},
   "outputs": [
    {
     "data": {
      "image/png": "[encoded data removed]",
      "text/plain": [
       "<Figure size 432x288 with 1 Axes>"
      ]
     },
     "metadata": {
      "needs_background": "light"
     },
     "output_type": "display_data"
    },
    {
     "data": {
      "text/plain": [
       "<matplotlib.axes._subplots.AxesSubplot at 0x1c4f325d808>"
      ]
     },
     "execution_count": 37,
     "metadata": {},
     "output_type": "execute_result"
    },
    {
     "data": {
      "image/png": "[encoded data removed]",
      "text/plain": [
       "<Figure size 432x288 with 1 Axes>"
      ]
     },
     "metadata": {
      "needs_background": "light"
     },
     "output_type": "display_data"
    }
   ],
   "source": [
    "#Histogram and box plot for games played by the players\n",
    "ax=sns.distplot(df[\"Games_played\"])\n",
    "plt.tight_layout()\n",
    "plt.show()\n",
    "\n",
    "sns.boxplot(df['Games_played'],palette='GnBu_r')"
   ]
  },
  {
   "cell_type": "code",
   "execution_count": 38,
   "metadata": {},
   "outputs": [
    {
     "data": {
      "image/png": "[encoded data removed]",
      "text/plain": [
       "<Figure size 432x288 with 1 Axes>"
      ]
     },
     "metadata": {
      "needs_background": "light"
     },
     "output_type": "display_data"
    },
    {
     "data": {
      "text/plain": [
       "<matplotlib.axes._subplots.AxesSubplot at 0x1c4f3244d88>"
      ]
     },
     "execution_count": 38,
     "metadata": {},
     "output_type": "execute_result"
    },
    {
     "data": {
      "image/png": "[encoded data removed]",
      "text/plain": [
       "<Figure size 432x288 with 1 Axes>"
      ]
     },
     "metadata": {
      "needs_background": "light"
     },
     "output_type": "display_data"
    }
   ],
   "source": [
    "ax=sns.distplot(df[\"Weight_in_Kg\"])\n",
    "plt.tight_layout()\n",
    "plt.show()\n",
    "\n",
    "sns.boxplot(df['Weight_in_Kg'],palette='GnBu_r')"
   ]
  },
  {
   "cell_type": "markdown",
   "metadata": {},
   "source": [
    "3.Boxplot"
   ]
  },
  {
   "cell_type": "code",
   "execution_count": 39,
   "metadata": {},
   "outputs": [
    {
     "data": {
      "image/png": "[encoded data removed]",
      "text/plain": [
       "<Figure size 432x288 with 1 Axes>"
      ]
     },
     "metadata": {
      "needs_background": "light"
     },
     "output_type": "display_data"
    }
   ],
   "source": [
    "filter = df.loc[df['League'] =='NBA']\n",
    "ax=sns.boxplot(y=\"Points\",x ='Team' ,data = filter,palette='GnBu_r')\n",
    "ax.set_xticklabels(ax.get_xticklabels(), rotation=90, ha=\"right\")\n",
    "plt.tight_layout()\n",
    "plt.show()"
   ]
  },
  {
   "cell_type": "code",
   "execution_count": 40,
   "metadata": {},
   "outputs": [
    {
     "data": {
      "image/png": "[encoded data removed]",
      "text/plain": [
       "<Figure size 432x288 with 1 Axes>"
      ]
     },
     "metadata": {
      "needs_background": "light"
     },
     "output_type": "display_data"
    }
   ],
   "source": [
    "d = df.loc[df['League'] =='NBA']\n",
    "options = ['SAS','BOS','ORL'] \n",
    "d = d[d['Team'].isin(options)] \n",
    "ax=sns.boxplot(y=\"Points\",x ='Team' ,data = d,palette='GnBu_r')\n",
    "ax.set_xticklabels(ax.get_xticklabels(), rotation=90, ha=\"right\")\n",
    "plt.tight_layout()\n",
    "plt.show()\n"
   ]
  },
  {
   "cell_type": "code",
   "execution_count": 41,
   "metadata": {},
   "outputs": [],
   "source": [
    "df.to_csv(\"final.csv\")"
   ]
  },
  {
   "cell_type": "code",
   "execution_count": null,
   "metadata": {},
   "outputs": [],
   "source": []
  },
  {
   "cell_type": "markdown",
   "metadata": {},
   "source": [
    "# NORMALISATION"
   ]
  },
  {
   "cell_type": "markdown",
   "metadata": {},
   "source": [
    "# Since the mean is 0 and standard deviation is 1 for all the numerical columns in the dataset, we can conclude that the data is standardized\n",
    "\n"
   ]
  },
  {
   "cell_type": "code",
   "execution_count": null,
   "metadata": {},
   "outputs": [],
   "source": []
  },
  {
   "cell_type": "markdown",
   "metadata": {},
   "source": [
    "# Reasons for the neccessity of normalization and the ways in which it affects datasets\n",
    "Why should data be normalized and standardized :\n",
    "So that we can bring all the values to a common without much distortion\n",
    "\n",
    "How does normalization affect datasets :\n",
    "Gets rid of the anomalies and the outliers which in turn plays a crucial role in inferential statistics"
   ]
  },
  {
   "cell_type": "code",
   "execution_count": 42,
   "metadata": {},
   "outputs": [],
   "source": [
    "nba_data = pd.read_csv('final.csv')"
   ]
  },
  {
   "cell_type": "code",
   "execution_count": 43,
   "metadata": {},
   "outputs": [
    {
     "data": {
      "text/html": [
       "<div>\n",
       "<style scoped>\n",
       "    .dataframe tbody tr th:only-of-type {\n",
       "        vertical-align: middle;\n",
       "    }\n",
       "\n",
       "    .dataframe tbody tr th {\n",
       "        vertical-align: top;\n",
       "    }\n",
       "\n",
       "    .dataframe thead th {\n",
       "        text-align: right;\n",
       "    }\n",
       "</style>\n",
       "<table border=\"1\" class=\"dataframe\">\n",
       "  <thead>\n",
       "    <tr style=\"text-align: right;\">\n",
       "      <th></th>\n",
       "      <th>Unnamed: 0</th>\n",
       "      <th>League</th>\n",
       "      <th>Season</th>\n",
       "      <th>Stage</th>\n",
       "      <th>Player</th>\n",
       "      <th>Team</th>\n",
       "      <th>Birth_date</th>\n",
       "      <th>Nationality</th>\n",
       "      <th>High_School</th>\n",
       "      <th>Games_played</th>\n",
       "      <th>...</th>\n",
       "      <th>Fouls</th>\n",
       "      <th>Off_Reb</th>\n",
       "      <th>Def_Reb</th>\n",
       "      <th>Total_Reb</th>\n",
       "      <th>Assists</th>\n",
       "      <th>Steals</th>\n",
       "      <th>Blocks</th>\n",
       "      <th>Points</th>\n",
       "      <th>Height_in_cm</th>\n",
       "      <th>Weight_in_Kg</th>\n",
       "    </tr>\n",
       "  </thead>\n",
       "  <tbody>\n",
       "    <tr>\n",
       "      <th>0</th>\n",
       "      <td>2</td>\n",
       "      <td>Eurocup</td>\n",
       "      <td>2015 - 2016</td>\n",
       "      <td>International</td>\n",
       "      <td>Yogev Ohayon</td>\n",
       "      <td>MAC</td>\n",
       "      <td>Apr 24, 87</td>\n",
       "      <td>Israel</td>\n",
       "      <td>No School</td>\n",
       "      <td>2.0</td>\n",
       "      <td>...</td>\n",
       "      <td>6.0</td>\n",
       "      <td>1.0</td>\n",
       "      <td>1.0</td>\n",
       "      <td>2.0</td>\n",
       "      <td>7.0</td>\n",
       "      <td>3.0</td>\n",
       "      <td>0.0</td>\n",
       "      <td>5.0</td>\n",
       "      <td>188.0</td>\n",
       "      <td>86.0</td>\n",
       "    </tr>\n",
       "    <tr>\n",
       "      <th>1</th>\n",
       "      <td>5</td>\n",
       "      <td>Spanish-ACB</td>\n",
       "      <td>2014 - 2015</td>\n",
       "      <td>International</td>\n",
       "      <td>Alberto Diaz</td>\n",
       "      <td>MON</td>\n",
       "      <td>Apr , 94</td>\n",
       "      <td>Spain</td>\n",
       "      <td>No School</td>\n",
       "      <td>34.0</td>\n",
       "      <td>...</td>\n",
       "      <td>71.0</td>\n",
       "      <td>20.0</td>\n",
       "      <td>57.0</td>\n",
       "      <td>77.0</td>\n",
       "      <td>82.0</td>\n",
       "      <td>35.0</td>\n",
       "      <td>1.0</td>\n",
       "      <td>141.0</td>\n",
       "      <td>188.0</td>\n",
       "      <td>85.0</td>\n",
       "    </tr>\n",
       "    <tr>\n",
       "      <th>2</th>\n",
       "      <td>11</td>\n",
       "      <td>Israeli-BSL</td>\n",
       "      <td>2012 - 2013</td>\n",
       "      <td>International</td>\n",
       "      <td>Rod Tishman</td>\n",
       "      <td>GAL</td>\n",
       "      <td>May 12, 91</td>\n",
       "      <td>Israel</td>\n",
       "      <td>No School</td>\n",
       "      <td>29.0</td>\n",
       "      <td>...</td>\n",
       "      <td>37.0</td>\n",
       "      <td>4.0</td>\n",
       "      <td>1.0</td>\n",
       "      <td>5.0</td>\n",
       "      <td>27.0</td>\n",
       "      <td>14.0</td>\n",
       "      <td>5.0</td>\n",
       "      <td>71.0</td>\n",
       "      <td>188.0</td>\n",
       "      <td>90.0</td>\n",
       "    </tr>\n",
       "    <tr>\n",
       "      <th>3</th>\n",
       "      <td>12</td>\n",
       "      <td>Australian-NBL</td>\n",
       "      <td>2012 - 2013</td>\n",
       "      <td>International</td>\n",
       "      <td>Benas Veikalas</td>\n",
       "      <td>TBB</td>\n",
       "      <td>Sep 24, 83</td>\n",
       "      <td>Lithuania</td>\n",
       "      <td>No School</td>\n",
       "      <td>37.0</td>\n",
       "      <td>...</td>\n",
       "      <td>82.0</td>\n",
       "      <td>9.0</td>\n",
       "      <td>73.0</td>\n",
       "      <td>82.0</td>\n",
       "      <td>45.0</td>\n",
       "      <td>17.0</td>\n",
       "      <td>6.0</td>\n",
       "      <td>415.0</td>\n",
       "      <td>188.0</td>\n",
       "      <td>90.0</td>\n",
       "    </tr>\n",
       "    <tr>\n",
       "      <th>4</th>\n",
       "      <td>13</td>\n",
       "      <td>Eurocup</td>\n",
       "      <td>2004 - 2005</td>\n",
       "      <td>International</td>\n",
       "      <td>Sani Becirovic</td>\n",
       "      <td>VAR</td>\n",
       "      <td>May , 81</td>\n",
       "      <td>Slovenia</td>\n",
       "      <td>No School</td>\n",
       "      <td>10.0</td>\n",
       "      <td>...</td>\n",
       "      <td>26.0</td>\n",
       "      <td>12.0</td>\n",
       "      <td>21.0</td>\n",
       "      <td>33.0</td>\n",
       "      <td>46.0</td>\n",
       "      <td>21.0</td>\n",
       "      <td>0.0</td>\n",
       "      <td>180.0</td>\n",
       "      <td>188.0</td>\n",
       "      <td>89.0</td>\n",
       "    </tr>\n",
       "  </tbody>\n",
       "</table>\n",
       "<p>5 rows × 28 columns</p>\n",
       "</div>"
      ],
      "text/plain": [
       "   Unnamed: 0          League       Season          Stage          Player  \\\n",
       "0           2         Eurocup  2015 - 2016  International    Yogev Ohayon   \n",
       "1           5     Spanish-ACB  2014 - 2015  International    Alberto Diaz   \n",
       "2          11     Israeli-BSL  2012 - 2013  International     Rod Tishman   \n",
       "3          12  Australian-NBL  2012 - 2013  International  Benas Veikalas   \n",
       "4          13         Eurocup  2004 - 2005  International  Sani Becirovic   \n",
       "\n",
       "  Team  Birth_date Nationality High_School  Games_played  ...  Fouls  Off_Reb  \\\n",
       "0  MAC  Apr 24, 87      Israel   No School           2.0  ...    6.0      1.0   \n",
       "1  MON    Apr , 94       Spain   No School          34.0  ...   71.0     20.0   \n",
       "2  GAL  May 12, 91      Israel   No School          29.0  ...   37.0      4.0   \n",
       "3  TBB  Sep 24, 83   Lithuania   No School          37.0  ...   82.0      9.0   \n",
       "4  VAR    May , 81    Slovenia   No School          10.0  ...   26.0     12.0   \n",
       "\n",
       "   Def_Reb  Total_Reb  Assists  Steals  Blocks  Points  Height_in_cm  \\\n",
       "0      1.0        2.0      7.0     3.0     0.0     5.0         188.0   \n",
       "1     57.0       77.0     82.0    35.0     1.0   141.0         188.0   \n",
       "2      1.0        5.0     27.0    14.0     5.0    71.0         188.0   \n",
       "3     73.0       82.0     45.0    17.0     6.0   415.0         188.0   \n",
       "4     21.0       33.0     46.0    21.0     0.0   180.0         188.0   \n",
       "\n",
       "   Weight_in_Kg  \n",
       "0          86.0  \n",
       "1          85.0  \n",
       "2          90.0  \n",
       "3          90.0  \n",
       "4          89.0  \n",
       "\n",
       "[5 rows x 28 columns]"
      ]
     },
     "execution_count": 43,
     "metadata": {},
     "output_type": "execute_result"
    }
   ],
   "source": [
    "nba_data.head()"
   ]
  },
  {
   "cell_type": "markdown",
   "metadata": {},
   "source": [
    "# To display the mean and standard deviation of the columns in dataset"
   ]
  },
  {
   "cell_type": "code",
   "execution_count": 44,
   "metadata": {},
   "outputs": [
    {
     "data": {
      "text/plain": [
       "Games_played            23.707163\n",
       "Minutes                498.611798\n",
       "FG_made                 76.327559\n",
       "FG_Attempted           148.436732\n",
       "3_Pointer_Made          22.402911\n",
       "3_Pointer_Attempted     60.588694\n",
       "FT_Made                 40.475293\n",
       "FT_Attempted            52.866992\n",
       "Turnovers               34.327949\n",
       "Fouls                   53.578652\n",
       "Off_Reb                 20.849719\n",
       "Def_Reb                 56.356742\n",
       "Total_Reb               77.206461\n",
       "Assists                 39.774579\n",
       "Steals                  19.173455\n",
       "Blocks                   5.214185\n",
       "Points                 194.478297\n",
       "Height_in_cm           194.904922\n",
       "Weight_in_Kg            95.423101\n",
       "dtype: float64"
      ]
     },
     "execution_count": 44,
     "metadata": {},
     "output_type": "execute_result"
    }
   ],
   "source": [
    "numMean = list()\n",
    "numMean = nba_data[['Games_played', 'Minutes', 'FG_made', 'FG_Attempted', '3_Pointer_Made', '3_Pointer_Attempted', 'FT_Made', 'FT_Attempted', 'Turnovers', 'Fouls', 'Off_Reb', 'Def_Reb', 'Total_Reb', 'Assists', 'Steals', 'Blocks', 'Points', 'Height_in_cm', 'Weight_in_Kg']].mean()\n",
    "numMean\n"
   ]
  },
  {
   "cell_type": "markdown",
   "metadata": {},
   "source": []
  },
  {
   "cell_type": "code",
   "execution_count": 45,
   "metadata": {},
   "outputs": [
    {
     "data": {
      "text/plain": [
       "Games_played              138.939485\n",
       "Minutes                104917.405159\n",
       "FG_made                  2276.205051\n",
       "FG_Attempted            11683.504860\n",
       "3_Pointer_Made            404.634059\n",
       "3_Pointer_Attempted      2579.139028\n",
       "FT_Made                   844.319645\n",
       "FT_Attempted             1409.010427\n",
       "Turnovers                 460.124981\n",
       "Fouls                     809.979755\n",
       "Off_Reb                   330.626732\n",
       "Def_Reb                  1666.179041\n",
       "Total_Reb                2985.840689\n",
       "Assists                  1004.273113\n",
       "Steals                    180.213743\n",
       "Blocks                     33.586559\n",
       "Points                  20738.741206\n",
       "Height_in_cm               88.605863\n",
       "Weight_in_Kg              110.341503\n",
       "dtype: float64"
      ]
     },
     "execution_count": 45,
     "metadata": {},
     "output_type": "execute_result"
    }
   ],
   "source": [
    "numVar = list()\n",
    "numVar = nba_data[['Games_played', 'Minutes', 'FG_made', 'FG_Attempted', '3_Pointer_Made', '3_Pointer_Attempted', 'FT_Made', 'FT_Attempted', 'Turnovers', 'Fouls', 'Off_Reb', 'Def_Reb', 'Total_Reb', 'Assists', 'Steals', 'Blocks', 'Points', 'Height_in_cm', 'Weight_in_Kg']].var()\n",
    "numVar"
   ]
  },
  {
   "cell_type": "code",
   "execution_count": 46,
   "metadata": {},
   "outputs": [
    {
     "data": {
      "text/plain": [
       "19"
      ]
     },
     "execution_count": 46,
     "metadata": {},
     "output_type": "execute_result"
    }
   ],
   "source": [
    "numCol = ['Games_played', 'Minutes', 'FG_made', 'FG_Attempted', '3_Pointer_Made', '3_Pointer_Attempted', 'FT_Made', 'FT_Attempted', 'Turnovers', 'Fouls', 'Off_Reb', 'Def_Reb', 'Total_Reb', 'Assists', 'Steals', 'Blocks', 'Points', 'Height_in_cm', 'Weight_in_Kg']\n",
    "len(numCol)"
   ]
  },
  {
   "cell_type": "code",
   "execution_count": 47,
   "metadata": {},
   "outputs": [],
   "source": [
    "cat_data = nba_data.select_dtypes(exclude=[\"number\"])\n",
    "num_data = nba_data.select_dtypes(include=[\"number\"])\n"
   ]
  },
  {
   "cell_type": "markdown",
   "metadata": {},
   "source": [
    "# To calculate Standardised values"
   ]
  },
  {
   "cell_type": "code",
   "execution_count": 48,
   "metadata": {},
   "outputs": [],
   "source": [
    "for e in num_data :\n",
    "        num_data[e] = (num_data[e] - num_data[e].mean())/num_data[e].std()\n",
    "        #using the formula z score = (x-mean)/std"
   ]
  },
  {
   "cell_type": "code",
   "execution_count": 49,
   "metadata": {},
   "outputs": [],
   "source": [
    "nba_cleaned = cat_data.join(num_data)\n"
   ]
  },
  {
   "cell_type": "code",
   "execution_count": 50,
   "metadata": {},
   "outputs": [
    {
     "data": {
      "text/html": [
       "<div>\n",
       "<style scoped>\n",
       "    .dataframe tbody tr th:only-of-type {\n",
       "        vertical-align: middle;\n",
       "    }\n",
       "\n",
       "    .dataframe tbody tr th {\n",
       "        vertical-align: top;\n",
       "    }\n",
       "\n",
       "    .dataframe thead th {\n",
       "        text-align: right;\n",
       "    }\n",
       "</style>\n",
       "<table border=\"1\" class=\"dataframe\">\n",
       "  <thead>\n",
       "    <tr style=\"text-align: right;\">\n",
       "      <th></th>\n",
       "      <th>League</th>\n",
       "      <th>Season</th>\n",
       "      <th>Stage</th>\n",
       "      <th>Player</th>\n",
       "      <th>Team</th>\n",
       "      <th>Birth_date</th>\n",
       "      <th>Nationality</th>\n",
       "      <th>High_School</th>\n",
       "      <th>Unnamed: 0</th>\n",
       "      <th>Games_played</th>\n",
       "      <th>...</th>\n",
       "      <th>Fouls</th>\n",
       "      <th>Off_Reb</th>\n",
       "      <th>Def_Reb</th>\n",
       "      <th>Total_Reb</th>\n",
       "      <th>Assists</th>\n",
       "      <th>Steals</th>\n",
       "      <th>Blocks</th>\n",
       "      <th>Points</th>\n",
       "      <th>Height_in_cm</th>\n",
       "      <th>Weight_in_Kg</th>\n",
       "    </tr>\n",
       "  </thead>\n",
       "  <tbody>\n",
       "    <tr>\n",
       "      <th>0</th>\n",
       "      <td>Eurocup</td>\n",
       "      <td>2015 - 2016</td>\n",
       "      <td>International</td>\n",
       "      <td>Yogev Ohayon</td>\n",
       "      <td>MAC</td>\n",
       "      <td>Apr 24, 87</td>\n",
       "      <td>Israel</td>\n",
       "      <td>No School</td>\n",
       "      <td>-1.733127</td>\n",
       "      <td>-1.841578</td>\n",
       "      <td>...</td>\n",
       "      <td>-1.671764</td>\n",
       "      <td>-1.091655</td>\n",
       "      <td>-1.356156</td>\n",
       "      <td>-1.376328</td>\n",
       "      <td>-1.034216</td>\n",
       "      <td>-1.204783</td>\n",
       "      <td>-0.899712</td>\n",
       "      <td>-1.315735</td>\n",
       "      <td>-0.733546</td>\n",
       "      <td>-0.897066</td>\n",
       "    </tr>\n",
       "    <tr>\n",
       "      <th>1</th>\n",
       "      <td>Spanish-ACB</td>\n",
       "      <td>2014 - 2015</td>\n",
       "      <td>International</td>\n",
       "      <td>Alberto Diaz</td>\n",
       "      <td>MON</td>\n",
       "      <td>Apr , 94</td>\n",
       "      <td>Spain</td>\n",
       "      <td>No School</td>\n",
       "      <td>-1.731165</td>\n",
       "      <td>0.873217</td>\n",
       "      <td>...</td>\n",
       "      <td>0.612131</td>\n",
       "      <td>-0.046731</td>\n",
       "      <td>0.015759</td>\n",
       "      <td>-0.003778</td>\n",
       "      <td>1.332441</td>\n",
       "      <td>1.178941</td>\n",
       "      <td>-0.727162</td>\n",
       "      <td>-0.371353</td>\n",
       "      <td>-0.733546</td>\n",
       "      <td>-0.992265</td>\n",
       "    </tr>\n",
       "    <tr>\n",
       "      <th>2</th>\n",
       "      <td>Israeli-BSL</td>\n",
       "      <td>2012 - 2013</td>\n",
       "      <td>International</td>\n",
       "      <td>Rod Tishman</td>\n",
       "      <td>GAL</td>\n",
       "      <td>May 12, 91</td>\n",
       "      <td>Israel</td>\n",
       "      <td>No School</td>\n",
       "      <td>-1.727242</td>\n",
       "      <td>0.449030</td>\n",
       "      <td>...</td>\n",
       "      <td>-0.582522</td>\n",
       "      <td>-0.926667</td>\n",
       "      <td>-1.356156</td>\n",
       "      <td>-1.321426</td>\n",
       "      <td>-0.403107</td>\n",
       "      <td>-0.385378</td>\n",
       "      <td>-0.036958</td>\n",
       "      <td>-0.857432</td>\n",
       "      <td>-0.733546</td>\n",
       "      <td>-0.516272</td>\n",
       "    </tr>\n",
       "    <tr>\n",
       "      <th>3</th>\n",
       "      <td>Australian-NBL</td>\n",
       "      <td>2012 - 2013</td>\n",
       "      <td>International</td>\n",
       "      <td>Benas Veikalas</td>\n",
       "      <td>TBB</td>\n",
       "      <td>Sep 24, 83</td>\n",
       "      <td>Lithuania</td>\n",
       "      <td>No School</td>\n",
       "      <td>-1.726588</td>\n",
       "      <td>1.127729</td>\n",
       "      <td>...</td>\n",
       "      <td>0.998637</td>\n",
       "      <td>-0.651687</td>\n",
       "      <td>0.407735</td>\n",
       "      <td>0.087725</td>\n",
       "      <td>0.164890</td>\n",
       "      <td>-0.161904</td>\n",
       "      <td>0.135593</td>\n",
       "      <td>1.531300</td>\n",
       "      <td>-0.733546</td>\n",
       "      <td>-0.516272</td>\n",
       "    </tr>\n",
       "    <tr>\n",
       "      <th>4</th>\n",
       "      <td>Eurocup</td>\n",
       "      <td>2004 - 2005</td>\n",
       "      <td>International</td>\n",
       "      <td>Sani Becirovic</td>\n",
       "      <td>VAR</td>\n",
       "      <td>May , 81</td>\n",
       "      <td>Slovenia</td>\n",
       "      <td>No School</td>\n",
       "      <td>-1.725935</td>\n",
       "      <td>-1.162880</td>\n",
       "      <td>...</td>\n",
       "      <td>-0.969027</td>\n",
       "      <td>-0.486699</td>\n",
       "      <td>-0.866186</td>\n",
       "      <td>-0.809007</td>\n",
       "      <td>0.196446</td>\n",
       "      <td>0.136062</td>\n",
       "      <td>-0.899712</td>\n",
       "      <td>-0.100537</td>\n",
       "      <td>-0.733546</td>\n",
       "      <td>-0.611470</td>\n",
       "    </tr>\n",
       "  </tbody>\n",
       "</table>\n",
       "<p>5 rows × 28 columns</p>\n",
       "</div>"
      ],
      "text/plain": [
       "           League       Season          Stage          Player Team  \\\n",
       "0         Eurocup  2015 - 2016  International    Yogev Ohayon  MAC   \n",
       "1     Spanish-ACB  2014 - 2015  International    Alberto Diaz  MON   \n",
       "2     Israeli-BSL  2012 - 2013  International     Rod Tishman  GAL   \n",
       "3  Australian-NBL  2012 - 2013  International  Benas Veikalas  TBB   \n",
       "4         Eurocup  2004 - 2005  International  Sani Becirovic  VAR   \n",
       "\n",
       "   Birth_date Nationality High_School  Unnamed: 0  Games_played  ...  \\\n",
       "0  Apr 24, 87      Israel   No School   -1.733127     -1.841578  ...   \n",
       "1    Apr , 94       Spain   No School   -1.731165      0.873217  ...   \n",
       "2  May 12, 91      Israel   No School   -1.727242      0.449030  ...   \n",
       "3  Sep 24, 83   Lithuania   No School   -1.726588      1.127729  ...   \n",
       "4    May , 81    Slovenia   No School   -1.725935     -1.162880  ...   \n",
       "\n",
       "      Fouls   Off_Reb   Def_Reb  Total_Reb   Assists    Steals    Blocks  \\\n",
       "0 -1.671764 -1.091655 -1.356156  -1.376328 -1.034216 -1.204783 -0.899712   \n",
       "1  0.612131 -0.046731  0.015759  -0.003778  1.332441  1.178941 -0.727162   \n",
       "2 -0.582522 -0.926667 -1.356156  -1.321426 -0.403107 -0.385378 -0.036958   \n",
       "3  0.998637 -0.651687  0.407735   0.087725  0.164890 -0.161904  0.135593   \n",
       "4 -0.969027 -0.486699 -0.866186  -0.809007  0.196446  0.136062 -0.899712   \n",
       "\n",
       "     Points  Height_in_cm  Weight_in_Kg  \n",
       "0 -1.315735     -0.733546     -0.897066  \n",
       "1 -0.371353     -0.733546     -0.992265  \n",
       "2 -0.857432     -0.733546     -0.516272  \n",
       "3  1.531300     -0.733546     -0.516272  \n",
       "4 -0.100537     -0.733546     -0.611470  \n",
       "\n",
       "[5 rows x 28 columns]"
      ]
     },
     "execution_count": 50,
     "metadata": {},
     "output_type": "execute_result"
    }
   ],
   "source": [
    "nba_cleaned.head()"
   ]
  },
  {
   "cell_type": "code",
   "execution_count": 51,
   "metadata": {},
   "outputs": [
    {
     "data": {
      "text/html": [
       "<div>\n",
       "<style scoped>\n",
       "    .dataframe tbody tr th:only-of-type {\n",
       "        vertical-align: middle;\n",
       "    }\n",
       "\n",
       "    .dataframe tbody tr th {\n",
       "        vertical-align: top;\n",
       "    }\n",
       "\n",
       "    .dataframe thead th {\n",
       "        text-align: right;\n",
       "    }\n",
       "</style>\n",
       "<table border=\"1\" class=\"dataframe\">\n",
       "  <thead>\n",
       "    <tr style=\"text-align: right;\">\n",
       "      <th></th>\n",
       "      <th>League</th>\n",
       "      <th>Season</th>\n",
       "      <th>Stage</th>\n",
       "      <th>Player</th>\n",
       "      <th>Team</th>\n",
       "      <th>Birth_date</th>\n",
       "      <th>Nationality</th>\n",
       "      <th>High_School</th>\n",
       "      <th>Unnamed: 0</th>\n",
       "      <th>Games_played</th>\n",
       "      <th>...</th>\n",
       "      <th>Fouls</th>\n",
       "      <th>Off_Reb</th>\n",
       "      <th>Def_Reb</th>\n",
       "      <th>Total_Reb</th>\n",
       "      <th>Assists</th>\n",
       "      <th>Steals</th>\n",
       "      <th>Blocks</th>\n",
       "      <th>Points</th>\n",
       "      <th>Height_in_cm</th>\n",
       "      <th>Weight_in_Kg</th>\n",
       "    </tr>\n",
       "  </thead>\n",
       "  <tbody>\n",
       "    <tr>\n",
       "      <th>0</th>\n",
       "      <td>Eurocup</td>\n",
       "      <td>2015 - 2016</td>\n",
       "      <td>International</td>\n",
       "      <td>Yogev Ohayon</td>\n",
       "      <td>MAC</td>\n",
       "      <td>Apr 24, 87</td>\n",
       "      <td>Israel</td>\n",
       "      <td>No School</td>\n",
       "      <td>-1.733127</td>\n",
       "      <td>-1.841578</td>\n",
       "      <td>...</td>\n",
       "      <td>-1.671764</td>\n",
       "      <td>-1.091655</td>\n",
       "      <td>-1.356156</td>\n",
       "      <td>-1.376328</td>\n",
       "      <td>-1.034216</td>\n",
       "      <td>-1.204783</td>\n",
       "      <td>-0.899712</td>\n",
       "      <td>-1.315735</td>\n",
       "      <td>-0.733546</td>\n",
       "      <td>-0.897066</td>\n",
       "    </tr>\n",
       "    <tr>\n",
       "      <th>1</th>\n",
       "      <td>Spanish-ACB</td>\n",
       "      <td>2014 - 2015</td>\n",
       "      <td>International</td>\n",
       "      <td>Alberto Diaz</td>\n",
       "      <td>MON</td>\n",
       "      <td>Apr , 94</td>\n",
       "      <td>Spain</td>\n",
       "      <td>No School</td>\n",
       "      <td>-1.731165</td>\n",
       "      <td>0.873217</td>\n",
       "      <td>...</td>\n",
       "      <td>0.612131</td>\n",
       "      <td>-0.046731</td>\n",
       "      <td>0.015759</td>\n",
       "      <td>-0.003778</td>\n",
       "      <td>1.332441</td>\n",
       "      <td>1.178941</td>\n",
       "      <td>-0.727162</td>\n",
       "      <td>-0.371353</td>\n",
       "      <td>-0.733546</td>\n",
       "      <td>-0.992265</td>\n",
       "    </tr>\n",
       "    <tr>\n",
       "      <th>2</th>\n",
       "      <td>Israeli-BSL</td>\n",
       "      <td>2012 - 2013</td>\n",
       "      <td>International</td>\n",
       "      <td>Rod Tishman</td>\n",
       "      <td>GAL</td>\n",
       "      <td>May 12, 91</td>\n",
       "      <td>Israel</td>\n",
       "      <td>No School</td>\n",
       "      <td>-1.727242</td>\n",
       "      <td>0.449030</td>\n",
       "      <td>...</td>\n",
       "      <td>-0.582522</td>\n",
       "      <td>-0.926667</td>\n",
       "      <td>-1.356156</td>\n",
       "      <td>-1.321426</td>\n",
       "      <td>-0.403107</td>\n",
       "      <td>-0.385378</td>\n",
       "      <td>-0.036958</td>\n",
       "      <td>-0.857432</td>\n",
       "      <td>-0.733546</td>\n",
       "      <td>-0.516272</td>\n",
       "    </tr>\n",
       "    <tr>\n",
       "      <th>3</th>\n",
       "      <td>Australian-NBL</td>\n",
       "      <td>2012 - 2013</td>\n",
       "      <td>International</td>\n",
       "      <td>Benas Veikalas</td>\n",
       "      <td>TBB</td>\n",
       "      <td>Sep 24, 83</td>\n",
       "      <td>Lithuania</td>\n",
       "      <td>No School</td>\n",
       "      <td>-1.726588</td>\n",
       "      <td>1.127729</td>\n",
       "      <td>...</td>\n",
       "      <td>0.998637</td>\n",
       "      <td>-0.651687</td>\n",
       "      <td>0.407735</td>\n",
       "      <td>0.087725</td>\n",
       "      <td>0.164890</td>\n",
       "      <td>-0.161904</td>\n",
       "      <td>0.135593</td>\n",
       "      <td>1.531300</td>\n",
       "      <td>-0.733546</td>\n",
       "      <td>-0.516272</td>\n",
       "    </tr>\n",
       "    <tr>\n",
       "      <th>4</th>\n",
       "      <td>Eurocup</td>\n",
       "      <td>2004 - 2005</td>\n",
       "      <td>International</td>\n",
       "      <td>Sani Becirovic</td>\n",
       "      <td>VAR</td>\n",
       "      <td>May , 81</td>\n",
       "      <td>Slovenia</td>\n",
       "      <td>No School</td>\n",
       "      <td>-1.725935</td>\n",
       "      <td>-1.162880</td>\n",
       "      <td>...</td>\n",
       "      <td>-0.969027</td>\n",
       "      <td>-0.486699</td>\n",
       "      <td>-0.866186</td>\n",
       "      <td>-0.809007</td>\n",
       "      <td>0.196446</td>\n",
       "      <td>0.136062</td>\n",
       "      <td>-0.899712</td>\n",
       "      <td>-0.100537</td>\n",
       "      <td>-0.733546</td>\n",
       "      <td>-0.611470</td>\n",
       "    </tr>\n",
       "    <tr>\n",
       "      <th>...</th>\n",
       "      <td>...</td>\n",
       "      <td>...</td>\n",
       "      <td>...</td>\n",
       "      <td>...</td>\n",
       "      <td>...</td>\n",
       "      <td>...</td>\n",
       "      <td>...</td>\n",
       "      <td>...</td>\n",
       "      <td>...</td>\n",
       "      <td>...</td>\n",
       "      <td>...</td>\n",
       "      <td>...</td>\n",
       "      <td>...</td>\n",
       "      <td>...</td>\n",
       "      <td>...</td>\n",
       "      <td>...</td>\n",
       "      <td>...</td>\n",
       "      <td>...</td>\n",
       "      <td>...</td>\n",
       "      <td>...</td>\n",
       "      <td>...</td>\n",
       "    </tr>\n",
       "    <tr>\n",
       "      <th>1419</th>\n",
       "      <td>Greek-HEBA-A1</td>\n",
       "      <td>2018 - 20</td>\n",
       "      <td>International</td>\n",
       "      <td>Quincy Diggs</td>\n",
       "      <td>KOL</td>\n",
       "      <td>Apr 8, 90</td>\n",
       "      <td>United States</td>\n",
       "      <td>Plano East Senior High School</td>\n",
       "      <td>1.736120</td>\n",
       "      <td>-0.314506</td>\n",
       "      <td>...</td>\n",
       "      <td>-0.687932</td>\n",
       "      <td>-0.431703</td>\n",
       "      <td>0.652719</td>\n",
       "      <td>0.343934</td>\n",
       "      <td>-0.024442</td>\n",
       "      <td>0.806484</td>\n",
       "      <td>-0.209509</td>\n",
       "      <td>-0.329689</td>\n",
       "      <td>-0.733546</td>\n",
       "      <td>-0.040279</td>\n",
       "    </tr>\n",
       "    <tr>\n",
       "      <th>1420</th>\n",
       "      <td>Argentinian-Liga-A</td>\n",
       "      <td>2017 - 2018</td>\n",
       "      <td>International</td>\n",
       "      <td>Javier Saiz</td>\n",
       "      <td>REG</td>\n",
       "      <td>Feb 26, 94</td>\n",
       "      <td>Argentina</td>\n",
       "      <td>No School</td>\n",
       "      <td>1.736773</td>\n",
       "      <td>1.042892</td>\n",
       "      <td>...</td>\n",
       "      <td>0.331037</td>\n",
       "      <td>0.778209</td>\n",
       "      <td>1.436671</td>\n",
       "      <td>1.332170</td>\n",
       "      <td>-0.055998</td>\n",
       "      <td>-0.236395</td>\n",
       "      <td>3.241509</td>\n",
       "      <td>0.406374</td>\n",
       "      <td>0.005942</td>\n",
       "      <td>-0.040279</td>\n",
       "    </tr>\n",
       "    <tr>\n",
       "      <th>1421</th>\n",
       "      <td>Spanish-ACB</td>\n",
       "      <td>2013 - 2014</td>\n",
       "      <td>International</td>\n",
       "      <td>John Shurna</td>\n",
       "      <td>JOV</td>\n",
       "      <td>Apr 30, 90</td>\n",
       "      <td>United States</td>\n",
       "      <td>Glenbard West High School</td>\n",
       "      <td>1.741350</td>\n",
       "      <td>0.873217</td>\n",
       "      <td>...</td>\n",
       "      <td>0.858089</td>\n",
       "      <td>0.448233</td>\n",
       "      <td>1.020197</td>\n",
       "      <td>0.911254</td>\n",
       "      <td>-0.276886</td>\n",
       "      <td>0.136062</td>\n",
       "      <td>0.825797</td>\n",
       "      <td>1.420196</td>\n",
       "      <td>1.178689</td>\n",
       "      <td>0.245317</td>\n",
       "    </tr>\n",
       "    <tr>\n",
       "      <th>1422</th>\n",
       "      <td>British-BBL</td>\n",
       "      <td>2016 - 2017</td>\n",
       "      <td>International</td>\n",
       "      <td>Donatas Visockis</td>\n",
       "      <td>MAN</td>\n",
       "      <td>Jan 4, 86</td>\n",
       "      <td>Lithuania</td>\n",
       "      <td>Cardinal Gibbons High School</td>\n",
       "      <td>1.756388</td>\n",
       "      <td>0.533868</td>\n",
       "      <td>...</td>\n",
       "      <td>0.190489</td>\n",
       "      <td>0.338241</td>\n",
       "      <td>0.799710</td>\n",
       "      <td>0.709947</td>\n",
       "      <td>0.038669</td>\n",
       "      <td>-1.130292</td>\n",
       "      <td>0.308144</td>\n",
       "      <td>-0.336633</td>\n",
       "      <td>1.391159</td>\n",
       "      <td>0.435714</td>\n",
       "    </tr>\n",
       "    <tr>\n",
       "      <th>1423</th>\n",
       "      <td>Serbian-KLS</td>\n",
       "      <td>2015 - 2016</td>\n",
       "      <td>International</td>\n",
       "      <td>Strahinja Micovic</td>\n",
       "      <td>BOR</td>\n",
       "      <td>Jun 17, 92</td>\n",
       "      <td>Serbia</td>\n",
       "      <td>No School</td>\n",
       "      <td>1.760311</td>\n",
       "      <td>0.703542</td>\n",
       "      <td>...</td>\n",
       "      <td>1.385142</td>\n",
       "      <td>2.153108</td>\n",
       "      <td>1.804148</td>\n",
       "      <td>2.064196</td>\n",
       "      <td>-0.245330</td>\n",
       "      <td>-0.608852</td>\n",
       "      <td>1.343449</td>\n",
       "      <td>2.072930</td>\n",
       "      <td>1.178689</td>\n",
       "      <td>0.911707</td>\n",
       "    </tr>\n",
       "  </tbody>\n",
       "</table>\n",
       "<p>1424 rows × 28 columns</p>\n",
       "</div>"
      ],
      "text/plain": [
       "                  League       Season          Stage             Player Team  \\\n",
       "0                Eurocup  2015 - 2016  International       Yogev Ohayon  MAC   \n",
       "1            Spanish-ACB  2014 - 2015  International       Alberto Diaz  MON   \n",
       "2            Israeli-BSL  2012 - 2013  International        Rod Tishman  GAL   \n",
       "3         Australian-NBL  2012 - 2013  International     Benas Veikalas  TBB   \n",
       "4                Eurocup  2004 - 2005  International     Sani Becirovic  VAR   \n",
       "...                  ...          ...            ...                ...  ...   \n",
       "1419       Greek-HEBA-A1    2018 - 20  International       Quincy Diggs  KOL   \n",
       "1420  Argentinian-Liga-A  2017 - 2018  International        Javier Saiz  REG   \n",
       "1421         Spanish-ACB  2013 - 2014  International        John Shurna  JOV   \n",
       "1422         British-BBL  2016 - 2017  International   Donatas Visockis  MAN   \n",
       "1423         Serbian-KLS  2015 - 2016  International  Strahinja Micovic  BOR   \n",
       "\n",
       "      Birth_date    Nationality                    High_School  Unnamed: 0  \\\n",
       "0     Apr 24, 87         Israel                      No School   -1.733127   \n",
       "1       Apr , 94          Spain                      No School   -1.731165   \n",
       "2     May 12, 91         Israel                      No School   -1.727242   \n",
       "3     Sep 24, 83      Lithuania                      No School   -1.726588   \n",
       "4       May , 81       Slovenia                      No School   -1.725935   \n",
       "...          ...            ...                            ...         ...   \n",
       "1419   Apr 8, 90  United States  Plano East Senior High School    1.736120   \n",
       "1420  Feb 26, 94      Argentina                      No School    1.736773   \n",
       "1421  Apr 30, 90  United States      Glenbard West High School    1.741350   \n",
       "1422   Jan 4, 86      Lithuania   Cardinal Gibbons High School    1.756388   \n",
       "1423  Jun 17, 92         Serbia                      No School    1.760311   \n",
       "\n",
       "      Games_played  ...     Fouls   Off_Reb   Def_Reb  Total_Reb   Assists  \\\n",
       "0        -1.841578  ... -1.671764 -1.091655 -1.356156  -1.376328 -1.034216   \n",
       "1         0.873217  ...  0.612131 -0.046731  0.015759  -0.003778  1.332441   \n",
       "2         0.449030  ... -0.582522 -0.926667 -1.356156  -1.321426 -0.403107   \n",
       "3         1.127729  ...  0.998637 -0.651687  0.407735   0.087725  0.164890   \n",
       "4        -1.162880  ... -0.969027 -0.486699 -0.866186  -0.809007  0.196446   \n",
       "...            ...  ...       ...       ...       ...        ...       ...   \n",
       "1419     -0.314506  ... -0.687932 -0.431703  0.652719   0.343934 -0.024442   \n",
       "1420      1.042892  ...  0.331037  0.778209  1.436671   1.332170 -0.055998   \n",
       "1421      0.873217  ...  0.858089  0.448233  1.020197   0.911254 -0.276886   \n",
       "1422      0.533868  ...  0.190489  0.338241  0.799710   0.709947  0.038669   \n",
       "1423      0.703542  ...  1.385142  2.153108  1.804148   2.064196 -0.245330   \n",
       "\n",
       "        Steals    Blocks    Points  Height_in_cm  Weight_in_Kg  \n",
       "0    -1.204783 -0.899712 -1.315735     -0.733546     -0.897066  \n",
       "1     1.178941 -0.727162 -0.371353     -0.733546     -0.992265  \n",
       "2    -0.385378 -0.036958 -0.857432     -0.733546     -0.516272  \n",
       "3    -0.161904  0.135593  1.531300     -0.733546     -0.516272  \n",
       "4     0.136062 -0.899712 -0.100537     -0.733546     -0.611470  \n",
       "...        ...       ...       ...           ...           ...  \n",
       "1419  0.806484 -0.209509 -0.329689     -0.733546     -0.040279  \n",
       "1420 -0.236395  3.241509  0.406374      0.005942     -0.040279  \n",
       "1421  0.136062  0.825797  1.420196      1.178689      0.245317  \n",
       "1422 -1.130292  0.308144 -0.336633      1.391159      0.435714  \n",
       "1423 -0.608852  1.343449  2.072930      1.178689      0.911707  \n",
       "\n",
       "[1424 rows x 28 columns]"
      ]
     },
     "execution_count": 51,
     "metadata": {},
     "output_type": "execute_result"
    }
   ],
   "source": [
    "nba_cleaned"
   ]
  },
  {
   "cell_type": "code",
   "execution_count": 52,
   "metadata": {},
   "outputs": [
    {
     "data": {
      "text/html": [
       "<div>\n",
       "<style scoped>\n",
       "    .dataframe tbody tr th:only-of-type {\n",
       "        vertical-align: middle;\n",
       "    }\n",
       "\n",
       "    .dataframe tbody tr th {\n",
       "        vertical-align: top;\n",
       "    }\n",
       "\n",
       "    .dataframe thead th {\n",
       "        text-align: right;\n",
       "    }\n",
       "</style>\n",
       "<table border=\"1\" class=\"dataframe\">\n",
       "  <thead>\n",
       "    <tr style=\"text-align: right;\">\n",
       "      <th></th>\n",
       "      <th>Normalized Mean</th>\n",
       "      <th>Normalized Variance</th>\n",
       "    </tr>\n",
       "  </thead>\n",
       "  <tbody>\n",
       "    <tr>\n",
       "      <th>Unnamed: 0</th>\n",
       "      <td>0.0</td>\n",
       "      <td>1.0</td>\n",
       "    </tr>\n",
       "    <tr>\n",
       "      <th>Games_played</th>\n",
       "      <td>0.0</td>\n",
       "      <td>1.0</td>\n",
       "    </tr>\n",
       "    <tr>\n",
       "      <th>Minutes</th>\n",
       "      <td>-0.0</td>\n",
       "      <td>1.0</td>\n",
       "    </tr>\n",
       "    <tr>\n",
       "      <th>FG_made</th>\n",
       "      <td>0.0</td>\n",
       "      <td>1.0</td>\n",
       "    </tr>\n",
       "    <tr>\n",
       "      <th>FG_Attempted</th>\n",
       "      <td>0.0</td>\n",
       "      <td>1.0</td>\n",
       "    </tr>\n",
       "    <tr>\n",
       "      <th>3_Pointer_Made</th>\n",
       "      <td>0.0</td>\n",
       "      <td>1.0</td>\n",
       "    </tr>\n",
       "    <tr>\n",
       "      <th>3_Pointer_Attempted</th>\n",
       "      <td>0.0</td>\n",
       "      <td>1.0</td>\n",
       "    </tr>\n",
       "    <tr>\n",
       "      <th>FT_Made</th>\n",
       "      <td>-0.0</td>\n",
       "      <td>1.0</td>\n",
       "    </tr>\n",
       "    <tr>\n",
       "      <th>FT_Attempted</th>\n",
       "      <td>0.0</td>\n",
       "      <td>1.0</td>\n",
       "    </tr>\n",
       "    <tr>\n",
       "      <th>Turnovers</th>\n",
       "      <td>0.0</td>\n",
       "      <td>1.0</td>\n",
       "    </tr>\n",
       "    <tr>\n",
       "      <th>Fouls</th>\n",
       "      <td>-0.0</td>\n",
       "      <td>1.0</td>\n",
       "    </tr>\n",
       "    <tr>\n",
       "      <th>Off_Reb</th>\n",
       "      <td>-0.0</td>\n",
       "      <td>1.0</td>\n",
       "    </tr>\n",
       "    <tr>\n",
       "      <th>Def_Reb</th>\n",
       "      <td>-0.0</td>\n",
       "      <td>1.0</td>\n",
       "    </tr>\n",
       "    <tr>\n",
       "      <th>Total_Reb</th>\n",
       "      <td>0.0</td>\n",
       "      <td>1.0</td>\n",
       "    </tr>\n",
       "    <tr>\n",
       "      <th>Assists</th>\n",
       "      <td>-0.0</td>\n",
       "      <td>1.0</td>\n",
       "    </tr>\n",
       "    <tr>\n",
       "      <th>Steals</th>\n",
       "      <td>-0.0</td>\n",
       "      <td>1.0</td>\n",
       "    </tr>\n",
       "    <tr>\n",
       "      <th>Blocks</th>\n",
       "      <td>-0.0</td>\n",
       "      <td>1.0</td>\n",
       "    </tr>\n",
       "    <tr>\n",
       "      <th>Points</th>\n",
       "      <td>0.0</td>\n",
       "      <td>1.0</td>\n",
       "    </tr>\n",
       "    <tr>\n",
       "      <th>Height_in_cm</th>\n",
       "      <td>0.0</td>\n",
       "      <td>1.0</td>\n",
       "    </tr>\n",
       "    <tr>\n",
       "      <th>Weight_in_Kg</th>\n",
       "      <td>-0.0</td>\n",
       "      <td>1.0</td>\n",
       "    </tr>\n",
       "  </tbody>\n",
       "</table>\n",
       "</div>"
      ],
      "text/plain": [
       "                     Normalized Mean  Normalized Variance\n",
       "Unnamed: 0                       0.0                  1.0\n",
       "Games_played                     0.0                  1.0\n",
       "Minutes                         -0.0                  1.0\n",
       "FG_made                          0.0                  1.0\n",
       "FG_Attempted                     0.0                  1.0\n",
       "3_Pointer_Made                   0.0                  1.0\n",
       "3_Pointer_Attempted              0.0                  1.0\n",
       "FT_Made                         -0.0                  1.0\n",
       "FT_Attempted                     0.0                  1.0\n",
       "Turnovers                        0.0                  1.0\n",
       "Fouls                           -0.0                  1.0\n",
       "Off_Reb                         -0.0                  1.0\n",
       "Def_Reb                         -0.0                  1.0\n",
       "Total_Reb                        0.0                  1.0\n",
       "Assists                         -0.0                  1.0\n",
       "Steals                          -0.0                  1.0\n",
       "Blocks                          -0.0                  1.0\n",
       "Points                           0.0                  1.0\n",
       "Height_in_cm                     0.0                  1.0\n",
       "Weight_in_Kg                    -0.0                  1.0"
      ]
     },
     "execution_count": 52,
     "metadata": {},
     "output_type": "execute_result"
    }
   ],
   "source": [
    "df1 = pd.DataFrame(nba_cleaned.mean(), columns = [\"Normalized Mean\"]).round(10) #Mean rounded off to 10 decimal places\n",
    "\n",
    "df2 = pd.DataFrame(nba_cleaned.var(), columns = [\"Normalized Variance\"]) #Variance\n",
    "df3 = pd.concat([df1, df2], axis=1, sort=False)\n",
    "\n",
    "df3"
   ]
  },
  {
   "cell_type": "code",
   "execution_count": 53,
   "metadata": {},
   "outputs": [
    {
     "data": {
      "image/png": "[encoded data removed]",
      "text/plain": [
       "<Figure size 432x288 with 1 Axes>"
      ]
     },
     "metadata": {
      "needs_background": "light"
     },
     "output_type": "display_data"
    },
    {
     "data": {
      "image/png": "[encoded data removed]",
      "text/plain": [
       "<Figure size 432x288 with 1 Axes>"
      ]
     },
     "metadata": {
      "needs_background": "light"
     },
     "output_type": "display_data"
    },
    {
     "data": {
      "image/png": "[encoded data removed]",
      "text/plain": [
       "<Figure size 432x288 with 1 Axes>"
      ]
     },
     "metadata": {
      "needs_background": "light"
     },
     "output_type": "display_data"
    },
    {
     "data": {
      "image/png": "[encoded data removed]",
      "text/plain": [
       "<Figure size 432x288 with 1 Axes>"
      ]
     },
     "metadata": {
      "needs_background": "light"
     },
     "output_type": "display_data"
    },
    {
     "data": {
      "image/png": "[encoded data removed]",
      "text/plain": [
       "<Figure size 432x288 with 1 Axes>"
      ]
     },
     "metadata": {
      "needs_background": "light"
     },
     "output_type": "display_data"
    },
    {
     "data": {
      "image/png": "[encoded data removed]",
      "text/plain": [
       "<Figure size 432x288 with 1 Axes>"
      ]
     },
     "metadata": {
      "needs_background": "light"
     },
     "output_type": "display_data"
    },
    {
     "data": {
      "image/png": "[encoded data removed]",
      "text/plain": [
       "<Figure size 432x288 with 1 Axes>"
      ]
     },
     "metadata": {
      "needs_background": "light"
     },
     "output_type": "display_data"
    },
    {
     "data": {
      "image/png": "[encoded data removed]",
      "text/plain": [
       "<Figure size 432x288 with 1 Axes>"
      ]
     },
     "metadata": {
      "needs_background": "light"
     },
     "output_type": "display_data"
    },
    {
     "data": {
      "image/png": "[encoded data removed]",
      "text/plain": [
       "<Figure size 432x288 with 1 Axes>"
      ]
     },
     "metadata": {
      "needs_background": "light"
     },
     "output_type": "display_data"
    },
    {
     "data": {
      "image/png": "[encoded data removed]",
      "text/plain": [
       "<Figure size 432x288 with 1 Axes>"
      ]
     },
     "metadata": {
      "needs_background": "light"
     },
     "output_type": "display_data"
    },
    {
     "data": {
      "image/png": "[encoded data removed]",
      "text/plain": [
       "<Figure size 432x288 with 1 Axes>"
      ]
     },
     "metadata": {
      "needs_background": "light"
     },
     "output_type": "display_data"
    },
    {
     "data": {
      "image/png": "[encoded data removed]",
      "text/plain": [
       "<Figure size 432x288 with 1 Axes>"
      ]
     },
     "metadata": {
      "needs_background": "light"
     },
     "output_type": "display_data"
    },
    {
     "data": {
      "image/png": "[encoded data removed]",
      "text/plain": [
       "<Figure size 432x288 with 1 Axes>"
      ]
     },
     "metadata": {
      "needs_background": "light"
     },
     "output_type": "display_data"
    },
    {
     "data": {
      "image/png": "[encoded data removed]",
      "text/plain": [
       "<Figure size 432x288 with 1 Axes>"
      ]
     },
     "metadata": {
      "needs_background": "light"
     },
     "output_type": "display_data"
    },
    {
     "data": {
      "image/png": "[encoded data removed]",
      "text/plain": [
       "<Figure size 432x288 with 1 Axes>"
      ]
     },
     "metadata": {
      "needs_background": "light"
     },
     "output_type": "display_data"
    },
    {
     "data": {
      "image/png": "[encoded data removed]",
      "text/plain": [
       "<Figure size 432x288 with 1 Axes>"
      ]
     },
     "metadata": {
      "needs_background": "light"
     },
     "output_type": "display_data"
    },
    {
     "data": {
      "image/png": "[encoded data removed]",
      "text/plain": [
       "<Figure size 432x288 with 1 Axes>"
      ]
     },
     "metadata": {
      "needs_background": "light"
     },
     "output_type": "display_data"
    },
    {
     "data": {
      "image/png": "[encoded data removed]",
      "text/plain": [
       "<Figure size 432x288 with 1 Axes>"
      ]
     },
     "metadata": {
      "needs_background": "light"
     },
     "output_type": "display_data"
    },
    {
     "data": {
      "image/png": "[encoded data removed]",
      "text/plain": [
       "<Figure size 432x288 with 1 Axes>"
      ]
     },
     "metadata": {
      "needs_background": "light"
     },
     "output_type": "display_data"
    }
   ],
   "source": [
    "for i in range(19):\n",
    "    plotVar = pd.DataFrame({f'{numCol[i]}': nba_cleaned[numCol[i]]})\n",
    "    plotVar.hist(bins=20, range={-5, 5})\n",
    "    "
   ]
  },
  {
   "cell_type": "code",
   "execution_count": 54,
   "metadata": {},
   "outputs": [
    {
     "data": {
      "image/png": "[encoded data removed]",
      "text/plain": [
       "<Figure size 432x288 with 1 Axes>"
      ]
     },
     "metadata": {
      "needs_background": "light"
     },
     "output_type": "display_data"
    }
   ],
   "source": [
    "sns.boxplot(nba_cleaned['Points'])\n",
    "plt.show()"
   ]
  },
  {
   "cell_type": "markdown",
   "metadata": {},
   "source": [
    "There are some Outliers because there will be one player from each team who scores more number of points and therefore cannot be ignored"
   ]
  },
  {
   "cell_type": "code",
   "execution_count": 55,
   "metadata": {},
   "outputs": [],
   "source": [
    "nba_cleaned.to_csv('Cleaned_Standardized_NBA_Dataset.csv')"
   ]
  },
  {
   "cell_type": "code",
   "execution_count": 61,
   "metadata": {},
   "outputs": [
    {
     "name": "stdout",
     "output_type": "stream",
     "text": [
      "No. of observations before eliminating the outliers: 1424\n",
      "In the column: Games_played\n"
     ]
    },
    {
     "data": {
      "image/png": "[encoded data removed]",
      "text/plain": [
       "<Figure size 432x288 with 1 Axes>"
      ]
     },
     "metadata": {
      "needs_background": "light"
     },
     "output_type": "display_data"
    },
    {
     "name": "stdout",
     "output_type": "stream",
     "text": [
      "No. of observations after eliminating the outliers: 1420\n",
      "Therefore we have found  4  outliers\n",
      "No. of observations before eliminating the outliers: 1424\n",
      "In the column: Minutes\n"
     ]
    },
    {
     "data": {
      "image/png": "[encoded data removed]",
      "text/plain": [
       "<Figure size 432x288 with 1 Axes>"
      ]
     },
     "metadata": {
      "needs_background": "light"
     },
     "output_type": "display_data"
    },
    {
     "name": "stdout",
     "output_type": "stream",
     "text": [
      "No. of observations after eliminating the outliers: 1424\n",
      "Therefore we have found  0  outliers\n",
      "No. of observations before eliminating the outliers: 1424\n",
      "In the column: FG_made\n"
     ]
    },
    {
     "data": {
      "image/png": "[encoded data removed]",
      "text/plain": [
       "<Figure size 432x288 with 1 Axes>"
      ]
     },
     "metadata": {
      "needs_background": "light"
     },
     "output_type": "display_data"
    },
    {
     "name": "stdout",
     "output_type": "stream",
     "text": [
      "No. of observations after eliminating the outliers: 1415\n",
      "Therefore we have found  9  outliers\n",
      "No. of observations before eliminating the outliers: 1424\n",
      "In the column: FG_Attempted\n"
     ]
    },
    {
     "data": {
      "image/png": "[encoded data removed]",
      "text/plain": [
       "<Figure size 432x288 with 1 Axes>"
      ]
     },
     "metadata": {
      "needs_background": "light"
     },
     "output_type": "display_data"
    },
    {
     "name": "stdout",
     "output_type": "stream",
     "text": [
      "No. of observations after eliminating the outliers: 1412\n",
      "Therefore we have found  12  outliers\n",
      "No. of observations before eliminating the outliers: 1424\n",
      "In the column: 3_Pointer_Made\n"
     ]
    },
    {
     "data": {
      "image/png": "[encoded data removed]",
      "text/plain": [
       "<Figure size 432x288 with 1 Axes>"
      ]
     },
     "metadata": {
      "needs_background": "light"
     },
     "output_type": "display_data"
    },
    {
     "name": "stdout",
     "output_type": "stream",
     "text": [
      "No. of observations after eliminating the outliers: 1399\n",
      "Therefore we have found  25  outliers\n",
      "No. of observations before eliminating the outliers: 1424\n",
      "In the column: 3_Pointer_Attempted\n"
     ]
    },
    {
     "data": {
      "image/png": "[encoded data removed]",
      "text/plain": [
       "<Figure size 432x288 with 1 Axes>"
      ]
     },
     "metadata": {
      "needs_background": "light"
     },
     "output_type": "display_data"
    },
    {
     "name": "stdout",
     "output_type": "stream",
     "text": [
      "No. of observations after eliminating the outliers: 1416\n",
      "Therefore we have found  8  outliers\n",
      "No. of observations before eliminating the outliers: 1424\n",
      "In the column: FT_Made\n"
     ]
    },
    {
     "data": {
      "image/png": "[encoded data removed]",
      "text/plain": [
       "<Figure size 432x288 with 1 Axes>"
      ]
     },
     "metadata": {
      "needs_background": "light"
     },
     "output_type": "display_data"
    },
    {
     "name": "stdout",
     "output_type": "stream",
     "text": [
      "No. of observations after eliminating the outliers: 1396\n",
      "Therefore we have found  28  outliers\n",
      "No. of observations before eliminating the outliers: 1424\n",
      "In the column: FT_Attempted\n"
     ]
    },
    {
     "data": {
      "image/png": "[encoded data removed]",
      "text/plain": [
       "<Figure size 432x288 with 1 Axes>"
      ]
     },
     "metadata": {
      "needs_background": "light"
     },
     "output_type": "display_data"
    },
    {
     "name": "stdout",
     "output_type": "stream",
     "text": [
      "No. of observations after eliminating the outliers: 1399\n",
      "Therefore we have found  25  outliers\n",
      "No. of observations before eliminating the outliers: 1424\n",
      "In the column: Turnovers\n"
     ]
    },
    {
     "data": {
      "image/png": "[encoded data removed]",
      "text/plain": [
       "<Figure size 432x288 with 1 Axes>"
      ]
     },
     "metadata": {
      "needs_background": "light"
     },
     "output_type": "display_data"
    },
    {
     "name": "stdout",
     "output_type": "stream",
     "text": [
      "No. of observations after eliminating the outliers: 1407\n",
      "Therefore we have found  17  outliers\n",
      "No. of observations before eliminating the outliers: 1424\n",
      "In the column: Fouls\n"
     ]
    },
    {
     "data": {
      "image/png": "[encoded data removed]",
      "text/plain": [
       "<Figure size 432x288 with 1 Axes>"
      ]
     },
     "metadata": {
      "needs_background": "light"
     },
     "output_type": "display_data"
    },
    {
     "name": "stdout",
     "output_type": "stream",
     "text": [
      "No. of observations after eliminating the outliers: 1419\n",
      "Therefore we have found  5  outliers\n",
      "No. of observations before eliminating the outliers: 1424\n",
      "In the column: Off_Reb\n"
     ]
    },
    {
     "data": {
      "image/png": "[encoded data removed]",
      "text/plain": [
       "<Figure size 432x288 with 1 Axes>"
      ]
     },
     "metadata": {
      "needs_background": "light"
     },
     "output_type": "display_data"
    },
    {
     "name": "stdout",
     "output_type": "stream",
     "text": [
      "No. of observations after eliminating the outliers: 1358\n",
      "Therefore we have found  66  outliers\n",
      "No. of observations before eliminating the outliers: 1424\n",
      "In the column: Def_Reb\n"
     ]
    },
    {
     "data": {
      "image/png": "[encoded data removed]",
      "text/plain": [
       "<Figure size 432x288 with 1 Axes>"
      ]
     },
     "metadata": {
      "needs_background": "light"
     },
     "output_type": "display_data"
    },
    {
     "name": "stdout",
     "output_type": "stream",
     "text": [
      "No. of observations after eliminating the outliers: 1394\n",
      "Therefore we have found  30  outliers\n",
      "No. of observations before eliminating the outliers: 1424\n",
      "In the column: Total_Reb\n"
     ]
    },
    {
     "data": {
      "image/png": "[encoded data removed]",
      "text/plain": [
       "<Figure size 432x288 with 1 Axes>"
      ]
     },
     "metadata": {
      "needs_background": "light"
     },
     "output_type": "display_data"
    },
    {
     "name": "stdout",
     "output_type": "stream",
     "text": [
      "No. of observations after eliminating the outliers: 1397\n",
      "Therefore we have found  27  outliers\n",
      "No. of observations before eliminating the outliers: 1424\n",
      "In the column: Assists\n"
     ]
    },
    {
     "data": {
      "image/png": "[encoded data removed]",
      "text/plain": [
       "<Figure size 432x288 with 1 Axes>"
      ]
     },
     "metadata": {
      "needs_background": "light"
     },
     "output_type": "display_data"
    },
    {
     "name": "stdout",
     "output_type": "stream",
     "text": [
      "No. of observations after eliminating the outliers: 1372\n",
      "Therefore we have found  52  outliers\n",
      "No. of observations before eliminating the outliers: 1424\n",
      "In the column: Steals\n"
     ]
    },
    {
     "data": {
      "image/png": "[encoded data removed]",
      "text/plain": [
       "<Figure size 432x288 with 1 Axes>"
      ]
     },
     "metadata": {
      "needs_background": "light"
     },
     "output_type": "display_data"
    },
    {
     "name": "stdout",
     "output_type": "stream",
     "text": [
      "No. of observations after eliminating the outliers: 1382\n",
      "Therefore we have found  42  outliers\n",
      "No. of observations before eliminating the outliers: 1424\n",
      "In the column: Blocks\n"
     ]
    },
    {
     "data": {
      "image/png": "[encoded data removed]",
      "text/plain": [
       "<Figure size 432x288 with 1 Axes>"
      ]
     },
     "metadata": {
      "needs_background": "light"
     },
     "output_type": "display_data"
    },
    {
     "name": "stdout",
     "output_type": "stream",
     "text": [
      "No. of observations after eliminating the outliers: 1321\n",
      "Therefore we have found  103  outliers\n",
      "No. of observations before eliminating the outliers: 1424\n",
      "In the column: Points\n"
     ]
    },
    {
     "data": {
      "image/png": "[encoded data removed]",
      "text/plain": [
       "<Figure size 432x288 with 1 Axes>"
      ]
     },
     "metadata": {
      "needs_background": "light"
     },
     "output_type": "display_data"
    },
    {
     "name": "stdout",
     "output_type": "stream",
     "text": [
      "No. of observations after eliminating the outliers: 1416\n",
      "Therefore we have found  8  outliers\n",
      "No. of observations before eliminating the outliers: 1424\n",
      "In the column: Height_in_cm\n"
     ]
    },
    {
     "data": {
      "image/png": "[encoded data removed]",
      "text/plain": [
       "<Figure size 432x288 with 1 Axes>"
      ]
     },
     "metadata": {
      "needs_background": "light"
     },
     "output_type": "display_data"
    },
    {
     "name": "stdout",
     "output_type": "stream",
     "text": [
      "No. of observations after eliminating the outliers: 1424\n",
      "Therefore we have found  0  outliers\n",
      "No. of observations before eliminating the outliers: 1424\n",
      "In the column: Weight_in_Kg\n"
     ]
    },
    {
     "data": {
      "image/png": "[encoded data removed]",
      "text/plain": [
       "<Figure size 432x288 with 1 Axes>"
      ]
     },
     "metadata": {
      "needs_background": "light"
     },
     "output_type": "display_data"
    },
    {
     "name": "stdout",
     "output_type": "stream",
     "text": [
      "No. of observations after eliminating the outliers: 1418\n",
      "Therefore we have found  6  outliers\n"
     ]
    }
   ],
   "source": [
    "# Removal of outliers from normalized dataset.\n",
    "\n",
    "for i in numCol:\n",
    "    valid_values=[]\n",
    "    outliers = []\n",
    "    print('No. of observations before eliminating the outliers:',len(nba_cleaned['Points']))\n",
    "    print(\"In the column:\",i)\n",
    "    for j in nba_cleaned[i]:\n",
    "        \n",
    "        init_dfa_len=len(nba_cleaned[i])\n",
    "        Q1,Q3=nba_cleaned[i].quantile([0.25,0.75])\n",
    "\n",
    "        IQR=Q3-Q1\n",
    "        if (j < Q3+1.5*IQR):#if the values are lesser than the maximum value store it in valid_values list else in outliers list.\n",
    "            valid_values.append(j)\n",
    "        else:\n",
    "            outliers.append(j)#list of all the outliers\n",
    "    sns.boxplot(valid_values)\n",
    "    plt.show()\n",
    "    print('No. of observations after eliminating the outliers:',len(valid_values))\n",
    "    final_dfa_len=len(valid_values)\n",
    "\n",
    "    print('Therefore we have found ', init_dfa_len-final_dfa_len ,' outliers')\n",
    "\n",
    "\n"
   ]
  },
  {
   "cell_type": "code",
   "execution_count": null,
   "metadata": {},
   "outputs": [],
   "source": []
  },
  {
   "cell_type": "markdown",
   "metadata": {},
   "source": [
    "# HYPOTHESIS TESTING"
   ]
  },
  {
   "cell_type": "code",
   "execution_count": 62,
   "metadata": {},
   "outputs": [
    {
     "data": {
      "text/html": [
       "<div>\n",
       "<style scoped>\n",
       "    .dataframe tbody tr th:only-of-type {\n",
       "        vertical-align: middle;\n",
       "    }\n",
       "\n",
       "    .dataframe tbody tr th {\n",
       "        vertical-align: top;\n",
       "    }\n",
       "\n",
       "    .dataframe thead th {\n",
       "        text-align: right;\n",
       "    }\n",
       "</style>\n",
       "<table border=\"1\" class=\"dataframe\">\n",
       "  <thead>\n",
       "    <tr style=\"text-align: right;\">\n",
       "      <th></th>\n",
       "      <th>Unnamed: 0</th>\n",
       "      <th>League</th>\n",
       "      <th>Season</th>\n",
       "      <th>Stage</th>\n",
       "      <th>Player</th>\n",
       "      <th>Team</th>\n",
       "      <th>Birth_date</th>\n",
       "      <th>Nationality</th>\n",
       "      <th>High_School</th>\n",
       "      <th>Games_played</th>\n",
       "      <th>...</th>\n",
       "      <th>Fouls</th>\n",
       "      <th>Off_Reb</th>\n",
       "      <th>Def_Reb</th>\n",
       "      <th>Total_Reb</th>\n",
       "      <th>Assists</th>\n",
       "      <th>Steals</th>\n",
       "      <th>Blocks</th>\n",
       "      <th>Points</th>\n",
       "      <th>Height_in_cm</th>\n",
       "      <th>Weight_in_Kg</th>\n",
       "    </tr>\n",
       "  </thead>\n",
       "  <tbody>\n",
       "    <tr>\n",
       "      <th>0</th>\n",
       "      <td>2</td>\n",
       "      <td>Eurocup</td>\n",
       "      <td>2015 - 2016</td>\n",
       "      <td>International</td>\n",
       "      <td>Yogev Ohayon</td>\n",
       "      <td>MAC</td>\n",
       "      <td>Apr 24, 87</td>\n",
       "      <td>Israel</td>\n",
       "      <td>No School</td>\n",
       "      <td>2.0</td>\n",
       "      <td>...</td>\n",
       "      <td>6.0</td>\n",
       "      <td>1.0</td>\n",
       "      <td>1.0</td>\n",
       "      <td>2.0</td>\n",
       "      <td>7.0</td>\n",
       "      <td>3.0</td>\n",
       "      <td>0.0</td>\n",
       "      <td>5.0</td>\n",
       "      <td>188.0</td>\n",
       "      <td>86.0</td>\n",
       "    </tr>\n",
       "    <tr>\n",
       "      <th>1</th>\n",
       "      <td>5</td>\n",
       "      <td>Spanish-ACB</td>\n",
       "      <td>2014 - 2015</td>\n",
       "      <td>International</td>\n",
       "      <td>Alberto Diaz</td>\n",
       "      <td>MON</td>\n",
       "      <td>Apr , 94</td>\n",
       "      <td>Spain</td>\n",
       "      <td>No School</td>\n",
       "      <td>34.0</td>\n",
       "      <td>...</td>\n",
       "      <td>71.0</td>\n",
       "      <td>20.0</td>\n",
       "      <td>57.0</td>\n",
       "      <td>77.0</td>\n",
       "      <td>82.0</td>\n",
       "      <td>35.0</td>\n",
       "      <td>1.0</td>\n",
       "      <td>141.0</td>\n",
       "      <td>188.0</td>\n",
       "      <td>85.0</td>\n",
       "    </tr>\n",
       "    <tr>\n",
       "      <th>2</th>\n",
       "      <td>11</td>\n",
       "      <td>Israeli-BSL</td>\n",
       "      <td>2012 - 2013</td>\n",
       "      <td>International</td>\n",
       "      <td>Rod Tishman</td>\n",
       "      <td>GAL</td>\n",
       "      <td>May 12, 91</td>\n",
       "      <td>Israel</td>\n",
       "      <td>No School</td>\n",
       "      <td>29.0</td>\n",
       "      <td>...</td>\n",
       "      <td>37.0</td>\n",
       "      <td>4.0</td>\n",
       "      <td>1.0</td>\n",
       "      <td>5.0</td>\n",
       "      <td>27.0</td>\n",
       "      <td>14.0</td>\n",
       "      <td>5.0</td>\n",
       "      <td>71.0</td>\n",
       "      <td>188.0</td>\n",
       "      <td>90.0</td>\n",
       "    </tr>\n",
       "    <tr>\n",
       "      <th>3</th>\n",
       "      <td>12</td>\n",
       "      <td>Australian-NBL</td>\n",
       "      <td>2012 - 2013</td>\n",
       "      <td>International</td>\n",
       "      <td>Benas Veikalas</td>\n",
       "      <td>TBB</td>\n",
       "      <td>Sep 24, 83</td>\n",
       "      <td>Lithuania</td>\n",
       "      <td>No School</td>\n",
       "      <td>37.0</td>\n",
       "      <td>...</td>\n",
       "      <td>82.0</td>\n",
       "      <td>9.0</td>\n",
       "      <td>73.0</td>\n",
       "      <td>82.0</td>\n",
       "      <td>45.0</td>\n",
       "      <td>17.0</td>\n",
       "      <td>6.0</td>\n",
       "      <td>415.0</td>\n",
       "      <td>188.0</td>\n",
       "      <td>90.0</td>\n",
       "    </tr>\n",
       "    <tr>\n",
       "      <th>4</th>\n",
       "      <td>13</td>\n",
       "      <td>Eurocup</td>\n",
       "      <td>2004 - 2005</td>\n",
       "      <td>International</td>\n",
       "      <td>Sani Becirovic</td>\n",
       "      <td>VAR</td>\n",
       "      <td>May , 81</td>\n",
       "      <td>Slovenia</td>\n",
       "      <td>No School</td>\n",
       "      <td>10.0</td>\n",
       "      <td>...</td>\n",
       "      <td>26.0</td>\n",
       "      <td>12.0</td>\n",
       "      <td>21.0</td>\n",
       "      <td>33.0</td>\n",
       "      <td>46.0</td>\n",
       "      <td>21.0</td>\n",
       "      <td>0.0</td>\n",
       "      <td>180.0</td>\n",
       "      <td>188.0</td>\n",
       "      <td>89.0</td>\n",
       "    </tr>\n",
       "  </tbody>\n",
       "</table>\n",
       "<p>5 rows × 28 columns</p>\n",
       "</div>"
      ],
      "text/plain": [
       "   Unnamed: 0          League       Season          Stage          Player  \\\n",
       "0           2         Eurocup  2015 - 2016  International    Yogev Ohayon   \n",
       "1           5     Spanish-ACB  2014 - 2015  International    Alberto Diaz   \n",
       "2          11     Israeli-BSL  2012 - 2013  International     Rod Tishman   \n",
       "3          12  Australian-NBL  2012 - 2013  International  Benas Veikalas   \n",
       "4          13         Eurocup  2004 - 2005  International  Sani Becirovic   \n",
       "\n",
       "  Team  Birth_date Nationality High_School  Games_played  ...  Fouls  Off_Reb  \\\n",
       "0  MAC  Apr 24, 87      Israel   No School           2.0  ...    6.0      1.0   \n",
       "1  MON    Apr , 94       Spain   No School          34.0  ...   71.0     20.0   \n",
       "2  GAL  May 12, 91      Israel   No School          29.0  ...   37.0      4.0   \n",
       "3  TBB  Sep 24, 83   Lithuania   No School          37.0  ...   82.0      9.0   \n",
       "4  VAR    May , 81    Slovenia   No School          10.0  ...   26.0     12.0   \n",
       "\n",
       "   Def_Reb  Total_Reb  Assists  Steals  Blocks  Points  Height_in_cm  \\\n",
       "0      1.0        2.0      7.0     3.0     0.0     5.0         188.0   \n",
       "1     57.0       77.0     82.0    35.0     1.0   141.0         188.0   \n",
       "2      1.0        5.0     27.0    14.0     5.0    71.0         188.0   \n",
       "3     73.0       82.0     45.0    17.0     6.0   415.0         188.0   \n",
       "4     21.0       33.0     46.0    21.0     0.0   180.0         188.0   \n",
       "\n",
       "   Weight_in_Kg  \n",
       "0          86.0  \n",
       "1          85.0  \n",
       "2          90.0  \n",
       "3          90.0  \n",
       "4          89.0  \n",
       "\n",
       "[5 rows x 28 columns]"
      ]
     },
     "execution_count": 62,
     "metadata": {},
     "output_type": "execute_result"
    }
   ],
   "source": [
    "nba_data = pd.read_csv('final.csv')\n",
    "nba_data.head()"
   ]
  },
  {
   "cell_type": "code",
   "execution_count": null,
   "metadata": {},
   "outputs": [],
   "source": [
    "## Research Hypothesis\n",
    "\n",
    "We know that the number of successful shots made by a player must be lesser than or equal to the number of total attempted shots. \n",
    "\n",
    "\n",
    "Our hypothesis test whether our dataset falls in line with this fact."
   ]
  },
  {
   "cell_type": "markdown",
   "metadata": {},
   "source": [
    "### Defining the Null and Alternate Hypothesis:\n",
    "\n",
    "H0: Mean of FG_made - Mean of FG_Attempted > 0\n",
    "\n",
    "H1: Mean of FG_made - Mean of FG_Attempted <= 0"
   ]
  },
  {
   "cell_type": "code",
   "execution_count": 63,
   "metadata": {},
   "outputs": [],
   "source": [
    "mean_FG_made = nba_data['FG_made'].mean()\n",
    "mean_FG_Attempted = nba_data['FG_Attempted'].mean()\n",
    "\n",
    "sd_FG_made = math.sqrt(nba_data['FG_made'].var())\n",
    "sd_FG_Attempted = math.sqrt(nba_data['FG_Attempted'].var())\n",
    "\n",
    "n_FG_made = len(nba_data['FG_made'])\n",
    "n_FG_Attempted = len(nba_data['FG_Attempted'])"
   ]
  },
  {
   "cell_type": "markdown",
   "metadata": {},
   "source": [
    "![formula](./formula.JPEG)\n",
    "\n",
    "Here delta is zero"
   ]
  },
  {
   "cell_type": "code",
   "execution_count": 66,
   "metadata": {},
   "outputs": [
    {
     "data": {
      "text/plain": [
       "-23.03070936941161"
      ]
     },
     "execution_count": 66,
     "metadata": {},
     "output_type": "execute_result"
    }
   ],
   "source": [
    "z = (mean_FG_made - mean_FG_Attempted) / math.sqrt((math.pow(sd_FG_made, 2)/n_FG_made) + (math.pow(sd_FG_Attempted, 2)/n_FG_Attempted))\n",
    "z"
   ]
  },
  {
   "cell_type": "markdown",
   "metadata": {},
   "source": [
    "# Decision on whether the null hypothesis is supported or rejected"
   ]
  },
  {
   "cell_type": "markdown",
   "metadata": {},
   "source": [
    "# 5% statistical significance"
   ]
  },
  {
   "cell_type": "markdown",
   "metadata": {},
   "source": [
    "z value at 5% is 1.645. Since the obtained z value is much lesser than that at 5%, we can strongly reject the null hypothesis and also say that the alternate hypothesis is highly probable. The extremely low value of z is due to the reason that NULL hypothesis turning out to be true in this case would indicate a factual error."
   ]
  },
  {
   "cell_type": "code",
   "execution_count": null,
   "metadata": {},
   "outputs": [],
   "source": []
  },
  {
   "cell_type": "markdown",
   "metadata": {},
   "source": [
    "# CORRELATION"
   ]
  },
  {
   "cell_type": "markdown",
   "metadata": {},
   "source": [
    "# Correlation b/w variables that are positively and negatively related"
   ]
  },
  {
   "cell_type": "code",
   "execution_count": 67,
   "metadata": {},
   "outputs": [],
   "source": [
    "basketball_data = pd.read_csv('final.csv')"
   ]
  },
  {
   "cell_type": "code",
   "execution_count": 68,
   "metadata": {},
   "outputs": [],
   "source": [
    "corr_data = basketball_data.corr(method=\"pearson\")"
   ]
  },
  {
   "cell_type": "code",
   "execution_count": 69,
   "metadata": {},
   "outputs": [
    {
     "data": {
      "text/html": [
       "<div>\n",
       "<style scoped>\n",
       "    .dataframe tbody tr th:only-of-type {\n",
       "        vertical-align: middle;\n",
       "    }\n",
       "\n",
       "    .dataframe tbody tr th {\n",
       "        vertical-align: top;\n",
       "    }\n",
       "\n",
       "    .dataframe thead th {\n",
       "        text-align: right;\n",
       "    }\n",
       "</style>\n",
       "<table border=\"1\" class=\"dataframe\">\n",
       "  <thead>\n",
       "    <tr style=\"text-align: right;\">\n",
       "      <th></th>\n",
       "      <th>Unnamed: 0</th>\n",
       "      <th>Games_played</th>\n",
       "      <th>Minutes</th>\n",
       "      <th>FG_made</th>\n",
       "      <th>FG_Attempted</th>\n",
       "      <th>3_Pointer_Made</th>\n",
       "      <th>3_Pointer_Attempted</th>\n",
       "      <th>FT_Made</th>\n",
       "      <th>FT_Attempted</th>\n",
       "      <th>Turnovers</th>\n",
       "      <th>Fouls</th>\n",
       "      <th>Off_Reb</th>\n",
       "      <th>Def_Reb</th>\n",
       "      <th>Total_Reb</th>\n",
       "      <th>Assists</th>\n",
       "      <th>Steals</th>\n",
       "      <th>Blocks</th>\n",
       "      <th>Points</th>\n",
       "      <th>Height_in_cm</th>\n",
       "      <th>Weight_in_Kg</th>\n",
       "    </tr>\n",
       "  </thead>\n",
       "  <tbody>\n",
       "    <tr>\n",
       "      <th>Unnamed: 0</th>\n",
       "      <td>1.000000</td>\n",
       "      <td>0.046411</td>\n",
       "      <td>0.042133</td>\n",
       "      <td>0.041619</td>\n",
       "      <td>0.010548</td>\n",
       "      <td>0.000242</td>\n",
       "      <td>0.021970</td>\n",
       "      <td>0.028196</td>\n",
       "      <td>0.025966</td>\n",
       "      <td>0.058430</td>\n",
       "      <td>0.024281</td>\n",
       "      <td>0.043716</td>\n",
       "      <td>0.065694</td>\n",
       "      <td>0.063621</td>\n",
       "      <td>0.029208</td>\n",
       "      <td>0.032283</td>\n",
       "      <td>0.022869</td>\n",
       "      <td>0.048913</td>\n",
       "      <td>0.048292</td>\n",
       "      <td>0.046741</td>\n",
       "    </tr>\n",
       "    <tr>\n",
       "      <th>Games_played</th>\n",
       "      <td>0.046411</td>\n",
       "      <td>1.000000</td>\n",
       "      <td>0.762264</td>\n",
       "      <td>0.613942</td>\n",
       "      <td>0.531340</td>\n",
       "      <td>0.550891</td>\n",
       "      <td>0.534204</td>\n",
       "      <td>0.553741</td>\n",
       "      <td>0.565381</td>\n",
       "      <td>0.685842</td>\n",
       "      <td>0.783222</td>\n",
       "      <td>0.497872</td>\n",
       "      <td>0.641589</td>\n",
       "      <td>0.644948</td>\n",
       "      <td>0.535043</td>\n",
       "      <td>0.658222</td>\n",
       "      <td>0.318517</td>\n",
       "      <td>0.589738</td>\n",
       "      <td>-0.065222</td>\n",
       "      <td>-0.079060</td>\n",
       "    </tr>\n",
       "    <tr>\n",
       "      <th>Minutes</th>\n",
       "      <td>0.042133</td>\n",
       "      <td>0.762264</td>\n",
       "      <td>1.000000</td>\n",
       "      <td>0.680663</td>\n",
       "      <td>0.602995</td>\n",
       "      <td>0.596482</td>\n",
       "      <td>0.586075</td>\n",
       "      <td>0.636349</td>\n",
       "      <td>0.621810</td>\n",
       "      <td>0.719835</td>\n",
       "      <td>0.696834</td>\n",
       "      <td>0.477292</td>\n",
       "      <td>0.653845</td>\n",
       "      <td>0.647256</td>\n",
       "      <td>0.545407</td>\n",
       "      <td>0.693424</td>\n",
       "      <td>0.322065</td>\n",
       "      <td>0.673359</td>\n",
       "      <td>-0.101918</td>\n",
       "      <td>-0.071023</td>\n",
       "    </tr>\n",
       "    <tr>\n",
       "      <th>FG_made</th>\n",
       "      <td>0.041619</td>\n",
       "      <td>0.613942</td>\n",
       "      <td>0.680663</td>\n",
       "      <td>1.000000</td>\n",
       "      <td>0.656167</td>\n",
       "      <td>0.526472</td>\n",
       "      <td>0.481765</td>\n",
       "      <td>0.686669</td>\n",
       "      <td>0.659135</td>\n",
       "      <td>0.670698</td>\n",
       "      <td>0.597138</td>\n",
       "      <td>0.521224</td>\n",
       "      <td>0.615612</td>\n",
       "      <td>0.633314</td>\n",
       "      <td>0.467345</td>\n",
       "      <td>0.603521</td>\n",
       "      <td>0.341370</td>\n",
       "      <td>0.707077</td>\n",
       "      <td>0.017499</td>\n",
       "      <td>0.030468</td>\n",
       "    </tr>\n",
       "    <tr>\n",
       "      <th>FG_Attempted</th>\n",
       "      <td>0.010548</td>\n",
       "      <td>0.531340</td>\n",
       "      <td>0.602995</td>\n",
       "      <td>0.656167</td>\n",
       "      <td>1.000000</td>\n",
       "      <td>0.552358</td>\n",
       "      <td>0.514581</td>\n",
       "      <td>0.588819</td>\n",
       "      <td>0.581299</td>\n",
       "      <td>0.619131</td>\n",
       "      <td>0.494152</td>\n",
       "      <td>0.387083</td>\n",
       "      <td>0.541033</td>\n",
       "      <td>0.532965</td>\n",
       "      <td>0.460230</td>\n",
       "      <td>0.567787</td>\n",
       "      <td>0.254726</td>\n",
       "      <td>0.642752</td>\n",
       "      <td>-0.084645</td>\n",
       "      <td>-0.050043</td>\n",
       "    </tr>\n",
       "    <tr>\n",
       "      <th>3_Pointer_Made</th>\n",
       "      <td>0.000242</td>\n",
       "      <td>0.550891</td>\n",
       "      <td>0.596482</td>\n",
       "      <td>0.526472</td>\n",
       "      <td>0.552358</td>\n",
       "      <td>1.000000</td>\n",
       "      <td>0.879431</td>\n",
       "      <td>0.406863</td>\n",
       "      <td>0.351817</td>\n",
       "      <td>0.480806</td>\n",
       "      <td>0.403423</td>\n",
       "      <td>0.017586</td>\n",
       "      <td>0.351417</td>\n",
       "      <td>0.268365</td>\n",
       "      <td>0.518061</td>\n",
       "      <td>0.564487</td>\n",
       "      <td>0.011577</td>\n",
       "      <td>0.569925</td>\n",
       "      <td>-0.332671</td>\n",
       "      <td>-0.306892</td>\n",
       "    </tr>\n",
       "    <tr>\n",
       "      <th>3_Pointer_Attempted</th>\n",
       "      <td>0.021970</td>\n",
       "      <td>0.534204</td>\n",
       "      <td>0.586075</td>\n",
       "      <td>0.481765</td>\n",
       "      <td>0.514581</td>\n",
       "      <td>0.879431</td>\n",
       "      <td>1.000000</td>\n",
       "      <td>0.398048</td>\n",
       "      <td>0.336554</td>\n",
       "      <td>0.454839</td>\n",
       "      <td>0.394086</td>\n",
       "      <td>0.025172</td>\n",
       "      <td>0.357197</td>\n",
       "      <td>0.275207</td>\n",
       "      <td>0.509505</td>\n",
       "      <td>0.542273</td>\n",
       "      <td>0.012456</td>\n",
       "      <td>0.511358</td>\n",
       "      <td>-0.343036</td>\n",
       "      <td>-0.323229</td>\n",
       "    </tr>\n",
       "    <tr>\n",
       "      <th>FT_Made</th>\n",
       "      <td>0.028196</td>\n",
       "      <td>0.553741</td>\n",
       "      <td>0.636349</td>\n",
       "      <td>0.686669</td>\n",
       "      <td>0.588819</td>\n",
       "      <td>0.406863</td>\n",
       "      <td>0.398048</td>\n",
       "      <td>1.000000</td>\n",
       "      <td>0.859228</td>\n",
       "      <td>0.734591</td>\n",
       "      <td>0.584438</td>\n",
       "      <td>0.491265</td>\n",
       "      <td>0.577211</td>\n",
       "      <td>0.594659</td>\n",
       "      <td>0.493769</td>\n",
       "      <td>0.596981</td>\n",
       "      <td>0.299376</td>\n",
       "      <td>0.678343</td>\n",
       "      <td>-0.031435</td>\n",
       "      <td>0.002244</td>\n",
       "    </tr>\n",
       "    <tr>\n",
       "      <th>FT_Attempted</th>\n",
       "      <td>0.025966</td>\n",
       "      <td>0.565381</td>\n",
       "      <td>0.621810</td>\n",
       "      <td>0.659135</td>\n",
       "      <td>0.581299</td>\n",
       "      <td>0.351817</td>\n",
       "      <td>0.336554</td>\n",
       "      <td>0.859228</td>\n",
       "      <td>1.000000</td>\n",
       "      <td>0.728650</td>\n",
       "      <td>0.608525</td>\n",
       "      <td>0.526125</td>\n",
       "      <td>0.587374</td>\n",
       "      <td>0.613851</td>\n",
       "      <td>0.448653</td>\n",
       "      <td>0.578322</td>\n",
       "      <td>0.323190</td>\n",
       "      <td>0.641795</td>\n",
       "      <td>0.014090</td>\n",
       "      <td>0.049508</td>\n",
       "    </tr>\n",
       "    <tr>\n",
       "      <th>Turnovers</th>\n",
       "      <td>0.058430</td>\n",
       "      <td>0.685842</td>\n",
       "      <td>0.719835</td>\n",
       "      <td>0.670698</td>\n",
       "      <td>0.619131</td>\n",
       "      <td>0.480806</td>\n",
       "      <td>0.454839</td>\n",
       "      <td>0.734591</td>\n",
       "      <td>0.728650</td>\n",
       "      <td>1.000000</td>\n",
       "      <td>0.702052</td>\n",
       "      <td>0.462789</td>\n",
       "      <td>0.613724</td>\n",
       "      <td>0.612458</td>\n",
       "      <td>0.620947</td>\n",
       "      <td>0.702727</td>\n",
       "      <td>0.267226</td>\n",
       "      <td>0.663135</td>\n",
       "      <td>-0.128637</td>\n",
       "      <td>-0.084576</td>\n",
       "    </tr>\n",
       "    <tr>\n",
       "      <th>Fouls</th>\n",
       "      <td>0.024281</td>\n",
       "      <td>0.783222</td>\n",
       "      <td>0.696834</td>\n",
       "      <td>0.597138</td>\n",
       "      <td>0.494152</td>\n",
       "      <td>0.403423</td>\n",
       "      <td>0.394086</td>\n",
       "      <td>0.584438</td>\n",
       "      <td>0.608525</td>\n",
       "      <td>0.702052</td>\n",
       "      <td>1.000000</td>\n",
       "      <td>0.545567</td>\n",
       "      <td>0.638070</td>\n",
       "      <td>0.658191</td>\n",
       "      <td>0.420490</td>\n",
       "      <td>0.620245</td>\n",
       "      <td>0.372868</td>\n",
       "      <td>0.560517</td>\n",
       "      <td>0.036892</td>\n",
       "      <td>0.035171</td>\n",
       "    </tr>\n",
       "    <tr>\n",
       "      <th>Off_Reb</th>\n",
       "      <td>0.043716</td>\n",
       "      <td>0.497872</td>\n",
       "      <td>0.477292</td>\n",
       "      <td>0.521224</td>\n",
       "      <td>0.387083</td>\n",
       "      <td>0.017586</td>\n",
       "      <td>0.025172</td>\n",
       "      <td>0.491265</td>\n",
       "      <td>0.526125</td>\n",
       "      <td>0.462789</td>\n",
       "      <td>0.545567</td>\n",
       "      <td>1.000000</td>\n",
       "      <td>0.666272</td>\n",
       "      <td>0.830477</td>\n",
       "      <td>0.111209</td>\n",
       "      <td>0.385723</td>\n",
       "      <td>0.568275</td>\n",
       "      <td>0.462291</td>\n",
       "      <td>0.405018</td>\n",
       "      <td>0.401588</td>\n",
       "    </tr>\n",
       "    <tr>\n",
       "      <th>Def_Reb</th>\n",
       "      <td>0.065694</td>\n",
       "      <td>0.641589</td>\n",
       "      <td>0.653845</td>\n",
       "      <td>0.615612</td>\n",
       "      <td>0.541033</td>\n",
       "      <td>0.351417</td>\n",
       "      <td>0.357197</td>\n",
       "      <td>0.577211</td>\n",
       "      <td>0.587374</td>\n",
       "      <td>0.613724</td>\n",
       "      <td>0.638070</td>\n",
       "      <td>0.666272</td>\n",
       "      <td>1.000000</td>\n",
       "      <td>0.968723</td>\n",
       "      <td>0.354344</td>\n",
       "      <td>0.561106</td>\n",
       "      <td>0.525559</td>\n",
       "      <td>0.591748</td>\n",
       "      <td>0.229837</td>\n",
       "      <td>0.249432</td>\n",
       "    </tr>\n",
       "    <tr>\n",
       "      <th>Total_Reb</th>\n",
       "      <td>0.063621</td>\n",
       "      <td>0.644948</td>\n",
       "      <td>0.647256</td>\n",
       "      <td>0.633314</td>\n",
       "      <td>0.532965</td>\n",
       "      <td>0.268365</td>\n",
       "      <td>0.275207</td>\n",
       "      <td>0.594659</td>\n",
       "      <td>0.613851</td>\n",
       "      <td>0.612458</td>\n",
       "      <td>0.658191</td>\n",
       "      <td>0.830477</td>\n",
       "      <td>0.968723</td>\n",
       "      <td>1.000000</td>\n",
       "      <td>0.301706</td>\n",
       "      <td>0.547508</td>\n",
       "      <td>0.581700</td>\n",
       "      <td>0.595876</td>\n",
       "      <td>0.306466</td>\n",
       "      <td>0.319962</td>\n",
       "    </tr>\n",
       "    <tr>\n",
       "      <th>Assists</th>\n",
       "      <td>0.029208</td>\n",
       "      <td>0.535043</td>\n",
       "      <td>0.545407</td>\n",
       "      <td>0.467345</td>\n",
       "      <td>0.460230</td>\n",
       "      <td>0.518061</td>\n",
       "      <td>0.509505</td>\n",
       "      <td>0.493769</td>\n",
       "      <td>0.448653</td>\n",
       "      <td>0.620947</td>\n",
       "      <td>0.420490</td>\n",
       "      <td>0.111209</td>\n",
       "      <td>0.354344</td>\n",
       "      <td>0.301706</td>\n",
       "      <td>1.000000</td>\n",
       "      <td>0.573558</td>\n",
       "      <td>0.027606</td>\n",
       "      <td>0.464227</td>\n",
       "      <td>-0.364628</td>\n",
       "      <td>-0.342796</td>\n",
       "    </tr>\n",
       "    <tr>\n",
       "      <th>Steals</th>\n",
       "      <td>0.032283</td>\n",
       "      <td>0.658222</td>\n",
       "      <td>0.693424</td>\n",
       "      <td>0.603521</td>\n",
       "      <td>0.567787</td>\n",
       "      <td>0.564487</td>\n",
       "      <td>0.542273</td>\n",
       "      <td>0.596981</td>\n",
       "      <td>0.578322</td>\n",
       "      <td>0.702727</td>\n",
       "      <td>0.620245</td>\n",
       "      <td>0.385723</td>\n",
       "      <td>0.561106</td>\n",
       "      <td>0.547508</td>\n",
       "      <td>0.573558</td>\n",
       "      <td>1.000000</td>\n",
       "      <td>0.237823</td>\n",
       "      <td>0.602219</td>\n",
       "      <td>-0.220026</td>\n",
       "      <td>-0.174232</td>\n",
       "    </tr>\n",
       "    <tr>\n",
       "      <th>Blocks</th>\n",
       "      <td>0.022869</td>\n",
       "      <td>0.318517</td>\n",
       "      <td>0.322065</td>\n",
       "      <td>0.341370</td>\n",
       "      <td>0.254726</td>\n",
       "      <td>0.011577</td>\n",
       "      <td>0.012456</td>\n",
       "      <td>0.299376</td>\n",
       "      <td>0.323190</td>\n",
       "      <td>0.267226</td>\n",
       "      <td>0.372868</td>\n",
       "      <td>0.568275</td>\n",
       "      <td>0.525559</td>\n",
       "      <td>0.581700</td>\n",
       "      <td>0.027606</td>\n",
       "      <td>0.237823</td>\n",
       "      <td>1.000000</td>\n",
       "      <td>0.317134</td>\n",
       "      <td>0.439056</td>\n",
       "      <td>0.414158</td>\n",
       "    </tr>\n",
       "    <tr>\n",
       "      <th>Points</th>\n",
       "      <td>0.048913</td>\n",
       "      <td>0.589738</td>\n",
       "      <td>0.673359</td>\n",
       "      <td>0.707077</td>\n",
       "      <td>0.642752</td>\n",
       "      <td>0.569925</td>\n",
       "      <td>0.511358</td>\n",
       "      <td>0.678343</td>\n",
       "      <td>0.641795</td>\n",
       "      <td>0.663135</td>\n",
       "      <td>0.560517</td>\n",
       "      <td>0.462291</td>\n",
       "      <td>0.591748</td>\n",
       "      <td>0.595876</td>\n",
       "      <td>0.464227</td>\n",
       "      <td>0.602219</td>\n",
       "      <td>0.317134</td>\n",
       "      <td>1.000000</td>\n",
       "      <td>-0.051706</td>\n",
       "      <td>-0.000672</td>\n",
       "    </tr>\n",
       "    <tr>\n",
       "      <th>Height_in_cm</th>\n",
       "      <td>0.048292</td>\n",
       "      <td>-0.065222</td>\n",
       "      <td>-0.101918</td>\n",
       "      <td>0.017499</td>\n",
       "      <td>-0.084645</td>\n",
       "      <td>-0.332671</td>\n",
       "      <td>-0.343036</td>\n",
       "      <td>-0.031435</td>\n",
       "      <td>0.014090</td>\n",
       "      <td>-0.128637</td>\n",
       "      <td>0.036892</td>\n",
       "      <td>0.405018</td>\n",
       "      <td>0.229837</td>\n",
       "      <td>0.306466</td>\n",
       "      <td>-0.364628</td>\n",
       "      <td>-0.220026</td>\n",
       "      <td>0.439056</td>\n",
       "      <td>-0.051706</td>\n",
       "      <td>1.000000</td>\n",
       "      <td>0.742386</td>\n",
       "    </tr>\n",
       "    <tr>\n",
       "      <th>Weight_in_Kg</th>\n",
       "      <td>0.046741</td>\n",
       "      <td>-0.079060</td>\n",
       "      <td>-0.071023</td>\n",
       "      <td>0.030468</td>\n",
       "      <td>-0.050043</td>\n",
       "      <td>-0.306892</td>\n",
       "      <td>-0.323229</td>\n",
       "      <td>0.002244</td>\n",
       "      <td>0.049508</td>\n",
       "      <td>-0.084576</td>\n",
       "      <td>0.035171</td>\n",
       "      <td>0.401588</td>\n",
       "      <td>0.249432</td>\n",
       "      <td>0.319962</td>\n",
       "      <td>-0.342796</td>\n",
       "      <td>-0.174232</td>\n",
       "      <td>0.414158</td>\n",
       "      <td>-0.000672</td>\n",
       "      <td>0.742386</td>\n",
       "      <td>1.000000</td>\n",
       "    </tr>\n",
       "  </tbody>\n",
       "</table>\n",
       "</div>"
      ],
      "text/plain": [
       "                     Unnamed: 0  Games_played   Minutes   FG_made  \\\n",
       "Unnamed: 0             1.000000      0.046411  0.042133  0.041619   \n",
       "Games_played           0.046411      1.000000  0.762264  0.613942   \n",
       "Minutes                0.042133      0.762264  1.000000  0.680663   \n",
       "FG_made                0.041619      0.613942  0.680663  1.000000   \n",
       "FG_Attempted           0.010548      0.531340  0.602995  0.656167   \n",
       "3_Pointer_Made         0.000242      0.550891  0.596482  0.526472   \n",
       "3_Pointer_Attempted    0.021970      0.534204  0.586075  0.481765   \n",
       "FT_Made                0.028196      0.553741  0.636349  0.686669   \n",
       "FT_Attempted           0.025966      0.565381  0.621810  0.659135   \n",
       "Turnovers              0.058430      0.685842  0.719835  0.670698   \n",
       "Fouls                  0.024281      0.783222  0.696834  0.597138   \n",
       "Off_Reb                0.043716      0.497872  0.477292  0.521224   \n",
       "Def_Reb                0.065694      0.641589  0.653845  0.615612   \n",
       "Total_Reb              0.063621      0.644948  0.647256  0.633314   \n",
       "Assists                0.029208      0.535043  0.545407  0.467345   \n",
       "Steals                 0.032283      0.658222  0.693424  0.603521   \n",
       "Blocks                 0.022869      0.318517  0.322065  0.341370   \n",
       "Points                 0.048913      0.589738  0.673359  0.707077   \n",
       "Height_in_cm           0.048292     -0.065222 -0.101918  0.017499   \n",
       "Weight_in_Kg           0.046741     -0.079060 -0.071023  0.030468   \n",
       "\n",
       "                     FG_Attempted  3_Pointer_Made  3_Pointer_Attempted  \\\n",
       "Unnamed: 0               0.010548        0.000242             0.021970   \n",
       "Games_played             0.531340        0.550891             0.534204   \n",
       "Minutes                  0.602995        0.596482             0.586075   \n",
       "FG_made                  0.656167        0.526472             0.481765   \n",
       "FG_Attempted             1.000000        0.552358             0.514581   \n",
       "3_Pointer_Made           0.552358        1.000000             0.879431   \n",
       "3_Pointer_Attempted      0.514581        0.879431             1.000000   \n",
       "FT_Made                  0.588819        0.406863             0.398048   \n",
       "FT_Attempted             0.581299        0.351817             0.336554   \n",
       "Turnovers                0.619131        0.480806             0.454839   \n",
       "Fouls                    0.494152        0.403423             0.394086   \n",
       "Off_Reb                  0.387083        0.017586             0.025172   \n",
       "Def_Reb                  0.541033        0.351417             0.357197   \n",
       "Total_Reb                0.532965        0.268365             0.275207   \n",
       "Assists                  0.460230        0.518061             0.509505   \n",
       "Steals                   0.567787        0.564487             0.542273   \n",
       "Blocks                   0.254726        0.011577             0.012456   \n",
       "Points                   0.642752        0.569925             0.511358   \n",
       "Height_in_cm            -0.084645       -0.332671            -0.343036   \n",
       "Weight_in_Kg            -0.050043       -0.306892            -0.323229   \n",
       "\n",
       "                      FT_Made  FT_Attempted  Turnovers     Fouls   Off_Reb  \\\n",
       "Unnamed: 0           0.028196      0.025966   0.058430  0.024281  0.043716   \n",
       "Games_played         0.553741      0.565381   0.685842  0.783222  0.497872   \n",
       "Minutes              0.636349      0.621810   0.719835  0.696834  0.477292   \n",
       "FG_made              0.686669      0.659135   0.670698  0.597138  0.521224   \n",
       "FG_Attempted         0.588819      0.581299   0.619131  0.494152  0.387083   \n",
       "3_Pointer_Made       0.406863      0.351817   0.480806  0.403423  0.017586   \n",
       "3_Pointer_Attempted  0.398048      0.336554   0.454839  0.394086  0.025172   \n",
       "FT_Made              1.000000      0.859228   0.734591  0.584438  0.491265   \n",
       "FT_Attempted         0.859228      1.000000   0.728650  0.608525  0.526125   \n",
       "Turnovers            0.734591      0.728650   1.000000  0.702052  0.462789   \n",
       "Fouls                0.584438      0.608525   0.702052  1.000000  0.545567   \n",
       "Off_Reb              0.491265      0.526125   0.462789  0.545567  1.000000   \n",
       "Def_Reb              0.577211      0.587374   0.613724  0.638070  0.666272   \n",
       "Total_Reb            0.594659      0.613851   0.612458  0.658191  0.830477   \n",
       "Assists              0.493769      0.448653   0.620947  0.420490  0.111209   \n",
       "Steals               0.596981      0.578322   0.702727  0.620245  0.385723   \n",
       "Blocks               0.299376      0.323190   0.267226  0.372868  0.568275   \n",
       "Points               0.678343      0.641795   0.663135  0.560517  0.462291   \n",
       "Height_in_cm        -0.031435      0.014090  -0.128637  0.036892  0.405018   \n",
       "Weight_in_Kg         0.002244      0.049508  -0.084576  0.035171  0.401588   \n",
       "\n",
       "                      Def_Reb  Total_Reb   Assists    Steals    Blocks  \\\n",
       "Unnamed: 0           0.065694   0.063621  0.029208  0.032283  0.022869   \n",
       "Games_played         0.641589   0.644948  0.535043  0.658222  0.318517   \n",
       "Minutes              0.653845   0.647256  0.545407  0.693424  0.322065   \n",
       "FG_made              0.615612   0.633314  0.467345  0.603521  0.341370   \n",
       "FG_Attempted         0.541033   0.532965  0.460230  0.567787  0.254726   \n",
       "3_Pointer_Made       0.351417   0.268365  0.518061  0.564487  0.011577   \n",
       "3_Pointer_Attempted  0.357197   0.275207  0.509505  0.542273  0.012456   \n",
       "FT_Made              0.577211   0.594659  0.493769  0.596981  0.299376   \n",
       "FT_Attempted         0.587374   0.613851  0.448653  0.578322  0.323190   \n",
       "Turnovers            0.613724   0.612458  0.620947  0.702727  0.267226   \n",
       "Fouls                0.638070   0.658191  0.420490  0.620245  0.372868   \n",
       "Off_Reb              0.666272   0.830477  0.111209  0.385723  0.568275   \n",
       "Def_Reb              1.000000   0.968723  0.354344  0.561106  0.525559   \n",
       "Total_Reb            0.968723   1.000000  0.301706  0.547508  0.581700   \n",
       "Assists              0.354344   0.301706  1.000000  0.573558  0.027606   \n",
       "Steals               0.561106   0.547508  0.573558  1.000000  0.237823   \n",
       "Blocks               0.525559   0.581700  0.027606  0.237823  1.000000   \n",
       "Points               0.591748   0.595876  0.464227  0.602219  0.317134   \n",
       "Height_in_cm         0.229837   0.306466 -0.364628 -0.220026  0.439056   \n",
       "Weight_in_Kg         0.249432   0.319962 -0.342796 -0.174232  0.414158   \n",
       "\n",
       "                       Points  Height_in_cm  Weight_in_Kg  \n",
       "Unnamed: 0           0.048913      0.048292      0.046741  \n",
       "Games_played         0.589738     -0.065222     -0.079060  \n",
       "Minutes              0.673359     -0.101918     -0.071023  \n",
       "FG_made              0.707077      0.017499      0.030468  \n",
       "FG_Attempted         0.642752     -0.084645     -0.050043  \n",
       "3_Pointer_Made       0.569925     -0.332671     -0.306892  \n",
       "3_Pointer_Attempted  0.511358     -0.343036     -0.323229  \n",
       "FT_Made              0.678343     -0.031435      0.002244  \n",
       "FT_Attempted         0.641795      0.014090      0.049508  \n",
       "Turnovers            0.663135     -0.128637     -0.084576  \n",
       "Fouls                0.560517      0.036892      0.035171  \n",
       "Off_Reb              0.462291      0.405018      0.401588  \n",
       "Def_Reb              0.591748      0.229837      0.249432  \n",
       "Total_Reb            0.595876      0.306466      0.319962  \n",
       "Assists              0.464227     -0.364628     -0.342796  \n",
       "Steals               0.602219     -0.220026     -0.174232  \n",
       "Blocks               0.317134      0.439056      0.414158  \n",
       "Points               1.000000     -0.051706     -0.000672  \n",
       "Height_in_cm        -0.051706      1.000000      0.742386  \n",
       "Weight_in_Kg        -0.000672      0.742386      1.000000  "
      ]
     },
     "execution_count": 69,
     "metadata": {},
     "output_type": "execute_result"
    }
   ],
   "source": [
    "corr_data"
   ]
  },
  {
   "cell_type": "code",
   "execution_count": 70,
   "metadata": {},
   "outputs": [
    {
     "data": {
      "text/plain": [
       "(20.5, -0.5)"
      ]
     },
     "execution_count": 70,
     "metadata": {},
     "output_type": "execute_result"
    },
    {
     "data": {
      "image/png": "[encoded data removed]",
      "text/plain": [
       "<Figure size 792x576 with 2 Axes>"
      ]
     },
     "metadata": {
      "needs_background": "light"
     },
     "output_type": "display_data"
    }
   ],
   "source": [
    "# Compute the correlation matrix\n",
    "corr_data = basketball_data.corr(method='pearson')\n",
    "\n",
    "# Generate a mask for the upper triangle\n",
    "mask = np.zeros_like(corr_data, dtype=np.bool)\n",
    "mask[np.triu_indices_from(mask)] = True\n",
    "\n",
    "# Set up the matplotlib figure\n",
    "f, ax = plt.subplots(figsize=(11, 8))\n",
    "\n",
    "# Draw the heatmap with the mask and correct aspect ratio\n",
    "sns.heatmap(corr_data, mask=mask, vmax=.3, center=0, annot=True, fmt='.1f',\n",
    "            square=True, linewidths=.5, cbar_kws={\"shrink\": .5},cmap='YlOrRd')\n",
    "bottom, top = ax.get_ylim()\n",
    "ax.set_ylim(bottom + 0.5, top - 0.5)"
   ]
  },
  {
   "cell_type": "code",
   "execution_count": null,
   "metadata": {},
   "outputs": [],
   "source": []
  },
  {
   "cell_type": "markdown",
   "metadata": {},
   "source": [
    "# With the help of the above tabular data we state the correlation between vaiables in the dataset\n",
    "\n",
    "1. As you can see the 3_Pointer_Made,FT_Made,FG_Made are positively correlated to\n",
    "    3_Pointer_Attempted,FT_Attempted,FG_Attempted. This can be proved pratically also, as the number of shots made by the player \n",
    "    will always increase with the number of attempts he takes.\n",
    "2. Taller players shoot less number of 3 Pointers which is evident in the tabular data given above . Therefore making it a\n",
    "    negatively correlated variable pairs.Similary the 3 pointers attempts and height of the player is inversely proportional.\n",
    "    Therefore they are negatively correlated.\n",
    "    But these variables are not strongly negatively correlated.\n",
    "\n"
   ]
  },
  {
   "cell_type": "markdown",
   "metadata": {},
   "source": [
    "-------------------------------------------------------------XXXX--------------------------------------------------------------"
   ]
  },
  {
   "cell_type": "code",
   "execution_count": null,
   "metadata": {},
   "outputs": [],
   "source": []
  }
 ],
 "metadata": {
  "kernelspec": {
   "display_name": "Python 3",
   "language": "python",
   "name": "python3"
  },
  "language_info": {
   "codemirror_mode": {
    "name": "ipython",
    "version": 3
   },
   "file_extension": ".py",
   "mimetype": "text/x-python",
   "name": "python",
   "nbconvert_exporter": "python",
   "pygments_lexer": "ipython3",
   "version": "3.7.6"
  }
 },
 "nbformat": 4,
 "nbformat_minor": 4
}
